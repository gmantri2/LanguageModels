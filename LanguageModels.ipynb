{
  "nbformat": 4,
  "nbformat_minor": 0,
  "metadata": {
    "colab": {
      "provenance": [],
      "toc_visible": true
    },
    "kernelspec": {
      "name": "python3",
      "display_name": "Python 3"
    },
    "language_info": {
      "name": "python"
    },
    "gpuClass": "standard"
  },
  "cells": [
    {
      "cell_type": "markdown",
      "metadata": {
        "id": "AL8T2iZUN2Qj"
      },
      "source": [
        "# CS 447 Homework 1 $-$ Language Models & Morphological Transduction\n",
        "In this homework we will study some traditional appraoches to a few natural language tasks. First, you will build some n-gram language models on a corpus of Wikipedia articles, and then you will design a finite-state transducer for verb conjugation in Spanish.\n",
        "\n",
        "This notebook is designed to be run in Google Colab. Navigate to <TT>colab.research.google.com</TT> and upload this notebook. Then follow the instructions in the notebook to do the assignent.\n",
        "\n",
        "To run the notebook, you will need to connect to a Runtime. For this homework, all you need is a CPU. You can change the runtime by going to <TT>Runtime > Change runtime type</TT> and selecting <TT>None</TT> in the <TT>Hardware Accelerator</TT> field. We encourage you to disconnect from the runtime when you are not using it, as Google Colab can limit your resources if you overuse them.\n",
        "\n",
        "You can read more about Google Colab at https://research.google.com/colaboratory/faq.html.\n",
        "\n",
        "We have imported all the libraries you need to do this homework. <b>You should not import any extra libraries.</b> If you do, the autograder will fail to run your code."
      ]
    },
    {
      "cell_type": "markdown",
      "metadata": {
        "id": "ZKt-WVr6OtP4"
      },
      "source": [
        "#Part 1: Language Models [60 points]\n",
        "\n",
        "Here, you will train some <b>n-gram language models</b> on WikiText-2, a corpus of high-quality Wikipedia articles. The dataset was originally introduced in the following paper: https://arxiv.org/pdf/1609.07843v1.pdf. A raw version of the data can easily be viewed here: https://github.com/pytorch/examples/tree/master/word_language_model/data/wikitext-2.\n",
        "\n",
        "Unfortunately, you have to install the <TT>torchdata</TT> package on the Colab machine in order to access the data. To do this, run the cell below (you may need to click the \"Restart Runtime\" button when it finishes). You will have to do this every time you return to work on the homework."
      ]
    },
    {
      "cell_type": "code",
      "source": [
        "!pip install torchdata==0.5.1"
      ],
      "metadata": {
        "id": "OEX6JKqJVeYB",
        "outputId": "711f9792-85d3-4bab-e735-7a599d9d3cae",
        "colab": {
          "base_uri": "https://localhost:8080/"
        }
      },
      "execution_count": null,
      "outputs": [
        {
          "output_type": "stream",
          "name": "stdout",
          "text": [
            "Looking in indexes: https://pypi.org/simple, https://us-python.pkg.dev/colab-wheels/public/simple/\n",
            "Collecting torchdata==0.5.1\n",
            "  Downloading torchdata-0.5.1-cp38-cp38-manylinux_2_17_x86_64.manylinux2014_x86_64.whl (4.6 MB)\n",
            "\u001b[2K     \u001b[90m━━━━━━━━━━━━━━━━━━━━━━━━━━━━━━━━━━━━━━━━\u001b[0m \u001b[32m4.6/4.6 MB\u001b[0m \u001b[31m71.5 MB/s\u001b[0m eta \u001b[36m0:00:00\u001b[0m\n",
            "\u001b[?25hRequirement already satisfied: requests in /usr/local/lib/python3.8/dist-packages (from torchdata==0.5.1) (2.25.1)\n",
            "Requirement already satisfied: torch==1.13.1 in /usr/local/lib/python3.8/dist-packages (from torchdata==0.5.1) (1.13.1+cu116)\n",
            "Collecting portalocker>=2.0.0\n",
            "  Downloading portalocker-2.7.0-py2.py3-none-any.whl (15 kB)\n",
            "Collecting urllib3>=1.25\n",
            "  Downloading urllib3-1.26.14-py2.py3-none-any.whl (140 kB)\n",
            "\u001b[2K     \u001b[90m━━━━━━━━━━━━━━━━━━━━━━━━━━━━━━━━━━━━━━\u001b[0m \u001b[32m140.6/140.6 KB\u001b[0m \u001b[31m18.7 MB/s\u001b[0m eta \u001b[36m0:00:00\u001b[0m\n",
            "\u001b[?25hRequirement already satisfied: typing-extensions in /usr/local/lib/python3.8/dist-packages (from torch==1.13.1->torchdata==0.5.1) (4.5.0)\n",
            "Requirement already satisfied: idna<3,>=2.5 in /usr/local/lib/python3.8/dist-packages (from requests->torchdata==0.5.1) (2.10)\n",
            "Requirement already satisfied: certifi>=2017.4.17 in /usr/local/lib/python3.8/dist-packages (from requests->torchdata==0.5.1) (2022.12.7)\n",
            "Requirement already satisfied: chardet<5,>=3.0.2 in /usr/local/lib/python3.8/dist-packages (from requests->torchdata==0.5.1) (4.0.0)\n",
            "Installing collected packages: urllib3, portalocker, torchdata\n",
            "  Attempting uninstall: urllib3\n",
            "    Found existing installation: urllib3 1.24.3\n",
            "    Uninstalling urllib3-1.24.3:\n",
            "      Successfully uninstalled urllib3-1.24.3\n",
            "Successfully installed portalocker-2.7.0 torchdata-0.5.1 urllib3-1.26.14\n"
          ]
        }
      ]
    },
    {
      "cell_type": "markdown",
      "metadata": {
        "id": "cN2Ja8MNP4qS"
      },
      "source": [
        "## Preprocessing the Data\n",
        "\n",
        "To make your models more robust, it is necessary to perform some basic preprocessing on the corpora. <i>You do not need to edit this code.</i>\n",
        "\n",
        "* <b>Sentence splitting:</b>&nbsp;&nbsp;&nbsp;&nbsp;In this homework, we are interested in modeling individual sentences, rather than longer chunks of text such as paragraphs or documents. The WikiTest dataset provides paragraphs; thus, we provide a simple method to identify individual sentences by splitting paragraphs at punctuation tokens (\".\",  \"!\",  \"?\").\n",
        "\n",
        "* <b>Sentence markers:</b>&nbsp;&nbsp;&nbsp;&nbsp;For both training and testing corpora, each sentence must be surrounded by a start-of-sentence (`<s>`) and end-of-sentence marker (`/s`). These markers will allow your models to generate sentences that have realistic beginnings and endings.\n",
        "\n",
        "* <b>Unknown words:</b>&nbsp;&nbsp;&nbsp;&nbsp;In order to deal with unknown words in the test corpora, all words that do not appear in the vocabulary must be replaced with a special token for unknown words (`<UNK>`) before estimating your models. The WikiText dataset has already done this, and you can read about the method in the paper above. When unknown words are encountered in the test corpus, they should be treated as that special token instead.\n",
        "\n",
        "We provide you with preprocessing code here, and you should not modify it.\n",
        "\n",
        "After the preprocessing, you may assume that all words in the test set appear in the training set, as this code has already replaced the unseen tokens with `<UNK>`."
      ]
    },
    {
      "cell_type": "code",
      "metadata": {
        "id": "FCkrUjKEBrNp"
      },
      "source": [
        "# Constants (feel free to use these in your code, but do not change them)\n",
        "START = \"<s>\"   # Start-of-sentence token\n",
        "END = \"</s>\"    # End-of-sentence-token\n",
        "UNK = \"<UNK>\"   # Unknown word token"
      ],
      "execution_count": null,
      "outputs": []
    },
    {
      "cell_type": "code",
      "metadata": {
        "id": "vUdZstjH30DL"
      },
      "source": [
        "### DO NOT EDIT ###\n",
        "\n",
        "import torchtext\n",
        "import random\n",
        "import sys\n",
        "\n",
        "def preprocess(data, vocab=None):\n",
        "    final_data = []\n",
        "    lowercase = \"abcdefghijklmnopqrstuvwxyz\"\n",
        "    for paragraph in data:\n",
        "        paragraph = [x if x != '<unk>' else UNK for x in paragraph.split()]\n",
        "        if vocab is not None:\n",
        "            paragraph = [x if x in vocab else UNK for x in paragraph]\n",
        "        if paragraph == [] or paragraph.count('=') >= 2: continue\n",
        "        sen = []\n",
        "        prev_punct, prev_quot = False, False\n",
        "        for word in paragraph:\n",
        "            if prev_quot:\n",
        "                if word[0] not in lowercase:\n",
        "                    final_data.append(sen)\n",
        "                    sen = []\n",
        "                    prev_punct, prev_quot = False, False\n",
        "            if prev_punct:\n",
        "                if word == '\"':\n",
        "                    prev_punct, prev_quot = False, True\n",
        "                else:\n",
        "                    if word[0] not in lowercase:\n",
        "                        final_data.append(sen)\n",
        "                        sen = []\n",
        "                        prev_punct, prev_quot = False, False\n",
        "            if word in {'.', '?', '!'}: prev_punct = True\n",
        "            sen += [word]\n",
        "        if sen[-1] not in {'.', '?', '!', '\"'}: continue # Prevent a lot of short sentences\n",
        "        final_data.append(sen)\n",
        "    vocab_was_none = vocab is None\n",
        "    if vocab is None:\n",
        "        vocab = set()\n",
        "    for i in range(len(final_data)):\n",
        "        final_data[i] = [START] + final_data[i] + [END]\n",
        "        if vocab_was_none:\n",
        "            for word in final_data[i]:\n",
        "                vocab.add(word)\n",
        "    return final_data, vocab\n",
        "\n",
        "def getDataset():\n",
        "    dataset = torchtext.datasets.WikiText2(root='.data', split=('train', 'valid'))\n",
        "    train_dataset, vocab = preprocess(dataset[0])\n",
        "    test_dataset, _ = preprocess(dataset[1], vocab)\n",
        "\n",
        "    return train_dataset, test_dataset\n",
        "\n",
        "train_dataset, test_dataset = getDataset()"
      ],
      "execution_count": null,
      "outputs": []
    },
    {
      "cell_type": "markdown",
      "metadata": {
        "id": "mSFJ07ELGUMh"
      },
      "source": [
        "Run the next cell to see 10 random sentences of the training data."
      ]
    },
    {
      "cell_type": "code",
      "metadata": {
        "id": "swPwiHBHDDkT",
        "colab": {
          "base_uri": "https://localhost:8080/"
        },
        "outputId": "dc131567-8e3d-4a3a-f216-4cc9af539965"
      },
      "source": [
        "if __name__ == '__main__':\n",
        "    for x in random.sample(train_dataset, 10):\n",
        "        print (x)"
      ],
      "execution_count": null,
      "outputs": [
        {
          "output_type": "stream",
          "name": "stdout",
          "text": [
            "['<s>', 'One', 'dot', 'indicated', 'a', '\"', 'minor', 'stop', '\"', '(', 'presumably', 'a', 'simple', 'word', 'break', ')', ',', 'two', 'dots', 'marked', 'or', 'separated', '\"', 'special', 'words', '\"', ',', 'three', 'dots', 'for', 'a', '\"', 'bigger', 'stop', '\"', '(', 'such', 'as', 'the', '<UNK>', 'name', 'and', 'title', '\"', 'the', 'sovereign', 'Alexander', '\"', ',', 'below', ',', 'or', 'the', 'title', 'of', 'the', 'Gospel', 'of', 'Matthew', ',', 'above', ')', ',', 'and', 'six', 'dots', 'were', 'to', 'indicate', 'the', 'end', 'of', 'the', 'sentence', '.', '</s>']\n",
            "['<s>', 'He', 'played', 'his', 'entire', 'career', 'with', 'a', 'piece', 'of', 'shrapnel', 'lodged', 'in', 'his', 'back', 'as', 'a', 'result', 'of', 'this', 'injury', '.', '</s>']\n",
            "['<s>', 'Baltimore', 'was', 'granted', 'the', 'loan', 'of', 'one', 'of', 'the', 'ships', 'to', 'aid', 'in', 'his', 'defence', 'of', 'the', 'colony', ',', 'as', 'well', 'as', 'a', 'share', 'of', 'the', 'prize', 'money', '.', '</s>']\n",
            "['<s>', 'Boca', 'Raton', \"'s\", 'on', '@-@', 'campus', 'housing', 'facilities', 'are', ':', 'Algonquin', 'Hall', '(', 'opened', '1965', ')', ',', 'Indian', 'River', 'Towers', '(', 'opened', '2001', ')', ',', 'Heritage', 'Park', 'Towers', '(', 'opened', '2004', ')', ',', 'Glades', 'Park', 'Towers', '(', 'opened', '2007', ')', ',', 'Parliament', 'Hall', '(', 'opened', '2013', ')', ',', 'University', 'Village', 'Apartments', '(', '<UNK>', ')', ',', 'and', 'Innovation', 'Village', 'Apartments', '(', 'IVA', ')', '(', 'opened', '2011', ')', '.', '</s>']\n",
            "['<s>', 'The', 'depression', 'dissipated', 'later', 'that', 'day', ',', 'after', 'losing', 'its', 'low', '@-@', 'level', 'circulation', '<UNK>', 'mi', '(', '<UNK>', 'km', ')', 'southwest', 'of', 'San', 'Diego', '.', '</s>']\n",
            "['<s>', 'Ulysses', \"'\", 'apparent', 'disdain', 'for', 'those', 'around', 'him', 'is', 'another', '<UNK>', 'of', 'the', 'ironic', 'perspective', '.', '</s>']\n",
            "['<s>', 'Blair', 'Smith', 'was', 'the', 'first', 'cameraman', 'of', 'the', 'Thanhouser', 'company', ',', 'but', 'he', 'was', 'soon', 'joined', 'by', 'Carl', 'Louis', 'Gregory', 'who', 'had', 'years', 'of', 'experience', 'as', 'a', 'still', 'and', 'motion', 'picture', 'photographer', '.', '</s>']\n",
            "['<s>', 'Ra', 'and', '<UNK>', ',', 'battling', 'each', 'other', 'each', 'night', ',', 'continue', 'this', 'struggle', 'into', 'the', 'present', '.', '</s>']\n",
            "['<s>', 'The', 'single', 'failed', 'to', 'match', 'the', 'commercial', 'performance', 'of', 'Happy', 'to', 'You', \"'s\", 'lead', 'single', '\"', 'Paddling', 'Out', '\"', ';', 'it', 'only', 'charted', 'on', 'the', 'Flemish', 'Ultratip', 'chart', 'at', 'number', '43', '.', '</s>']\n",
            "['<s>', 'Recording', 'sessions', 'for', 'The', 'Joshua', 'Tree', 'began', 'in', 'January', '1986', 'in', '<UNK>', 'House', 'in', 'Dublin', ',', 'Ireland', ',', 'and', 'continued', 'throughout', 'the', 'year', '.', '</s>']\n"
          ]
        }
      ]
    },
    {
      "cell_type": "markdown",
      "metadata": {
        "id": "YM6hNHMqTMt2"
      },
      "source": [
        "## The LanguageModel Class\n",
        "\n",
        "You will implement 4 types of language models: a <b>unigram</b> model, a <b>smoothed unigram</b> model, a <b>bigram</b> model, and a <b>smoothed bigram</b> model. Each of the models is worth 15 points and extends the following base class. <b>You do not need to implement anything in this class</b>; you will instead implement each of the following methods in the relevant subclass:\n",
        "\n",
        "* <b>`__init__(self, trainCorpus)`</b>: Train the language model on `trainCorpus`. This will involve calculating relative frequency estimates according to the type of model you're implementing.\n",
        "\n",
        "* <b>`generateSentence(self)`</b>: <b>[5 points]</b> Return a sentence that is generated by the language model. It should be a list of the form <TT>[&lt;s&gt;, w<sup>(1)</sup>, ..., w<sup>(n)</sup>, &lt;&sol;s&gt;]</TT>, where each <TT>w<sup>(i)</sup></TT> is a word in your vocabulary (including <TT>&lt;UNK&gt;</TT> but exlcuding <TT>&lt;s&gt;</TT> and <TT>&lt;&sol;s&gt;</TT>). You may assume that <TT>&lt;s&gt;</TT> starts each sentence (with probability $1$). The following words <TT>w<sup>(1)</sup></TT>, ... , <TT>w<sup>(n)</sup></TT>, <TT>&lt;&sol;s&gt;</TT> are generated according to your language model's distribution. Note that the number of words <TT>n</TT> is not fixed; instead, you should stop the sentence as soon as you generate the stop token <TT>&lt;&sol;s&gt;</TT>.\n",
        "\n",
        "* <b>`getSentenceLogProbability(self, sentence)`</b>: <b>[5 points]</b> Return the <em> logarithm of the probability</em> of <TT>sentence</TT>, which is again a list of the form <TT>[&lt;s&gt;, w<sup>(1)</sup>, ..., w<sup>(n)</sup>, &lt;&sol;s&gt;]</TT>. You should use the natural logarithm $-$ that is, the base-<em>e</em> logarithm. See the note below about performing your calculations in log space.\n",
        "\n",
        "* <b>`getCorpusPerplexity(self, testCorpus)`</b>: <b>[5 points]</b> You need to compute the perplexity (normalized inverse log probability) of `testCorpus` according to your model. For a corpus $W$ with $N$ words and a bigram model, Jurafsky and Martin tells you to compute perplexity as follows:\n",
        "\n",
        "$$Perplexity(W) = \\Big [ \\prod_{i=1}^N \\frac{1}{P(w^{(i)}|w^{(i-1)})} \\Big ]^{1/N}$$\n",
        "\n",
        "<b>Implementation Hint:</b> In order to avoid underflow, you will likely need to do all of your calculations in log-space. That is, instead of multiplying probabilities, you should add the logarithms of the probabilities and exponentiate the result:\n",
        "\n",
        "$$\\prod_{i=1}^N P(w^{(i)}|w^{(i-1)}) = \\exp\\Big (\\sum_{i=1}^N \\log P(w^{(i)}|w^{(i-1)}) \\Big ) $$\n",
        "\n",
        "Using this property should help you in your implementation of `generateSentence(self)` and `getCorpusPerplexity(self, testCorpus)`.\n",
        "\n",
        "Feel free to implement helper methods as you wish (either in the base class or in the subclases). <b>But be sure not to change the function signatures of the provided methods</b> (i.e. the function and argument names), or else the autograder will fail."
      ]
    },
    {
      "cell_type": "code",
      "metadata": {
        "id": "uKO6dHNSS45P",
        "cellView": "code"
      },
      "source": [
        "import math\n",
        "import random\n",
        "from collections import defaultdict\n",
        "\n",
        "class LanguageModel(object):\n",
        "    def __init__(self, trainCorpus):\n",
        "        '''\n",
        "        Initialize and train the model (i.e. estimate the model's underlying probability\n",
        "        distribution from the training corpus.)\n",
        "        '''\n",
        "\n",
        "        ### DO NOT EDIT ###\n",
        "        return\n",
        "\n",
        "    def generateSentence(self):\n",
        "        '''\n",
        "        Generate a sentence by drawing words according to the model's probability distribution.\n",
        "        Note: Think about how to set the length of the sentence in a principled way.\n",
        "        '''\n",
        "\n",
        "        ### DO NOT EDIT ###\n",
        "        raise NotImplementedError(\"Implement generateSentence in each subclass.\")\n",
        "\n",
        "    def getSentenceLogProbability(self, sentence):\n",
        "        '''\n",
        "        Calculate the log probability of the sentence provided.\n",
        "        '''\n",
        "\n",
        "        ### DO NOT EDIT ###\n",
        "        raise NotImplementedError(\"Implement getSentenceProbability in each subclass.\")\n",
        "\n",
        "    def getCorpusPerplexity(self, testCorpus):\n",
        "        '''\n",
        "        Calculate the perplexity of the corpus provided.\n",
        "        '''\n",
        "\n",
        "        ### DO NOT EDIT ###\n",
        "        raise NotImplementedError(\"Implement getCorpusPerplexity in each subclass.\")\n",
        "\n",
        "    def printSentences(self, n):\n",
        "        '''\n",
        "        Prints n sentences generated by your model.\n",
        "        '''\n",
        "\n",
        "        ### DO NOT EDIT ###\n",
        "        for i in range(n):\n",
        "            sent = self.generateSentence()\n",
        "            prob = self.getSentenceLogProbability(sent)\n",
        "            print('Log Probability:', prob , '\\tSentence:',sent)"
      ],
      "execution_count": null,
      "outputs": []
    },
    {
      "cell_type": "markdown",
      "metadata": {
        "id": "Bf15l6f3etMV"
      },
      "source": [
        "## <font color='red'>TODO:</font> Unigram Model [15 points]\n",
        "\n",
        "Here, you will implement each of the 4 functions described above for an <b>unsmoothed unigram</b> model. The probability distribution of a word is given by $\\hat P(w)$.\n",
        "\n",
        "<font color='green'><b>Hints:</b></font>\n",
        "* <font color='green'>You should use a <b>dictionary</b> to map tokens to their unigram counts.</font>\n",
        "* <font color='green'>Since you never want to generate the start-of-sentence token `<s>`, you should <b>not</b> include it in your counts.</font>\n",
        "* <font color='green'>In general, avoid checking for membership in a list (i.e. avoid `x in lst`). Instead, use sets or dictionaries for this purpose $-$ membership checks are much faster on these data structures.</font>\n",
        "* <font color='green'>Do <b>not</b> modify the training or test corpora by using `.append(...)` or `.pop(...)` on them. This will cause unexpected behavior in the autograder tests, which do not expect you to be changing the data."
      ]
    },
    {
      "cell_type": "code",
      "metadata": {
        "id": "T2uZdMsqeuf2"
      },
      "source": [
        "class UnigramModel(LanguageModel):\n",
        "    def __init__(self, trainCorpus):\n",
        "        self.wordCount = dict()\n",
        "        for sentence in trainCorpus:\n",
        "          for word in sentence:\n",
        "            if word == '<s>':\n",
        "              continue\n",
        "            if word in self.wordCount:\n",
        "              self.wordCount[word] = self.wordCount[word] + 1\n",
        "            else:\n",
        "              self.wordCount[word] = 1\n",
        "\n",
        "    def generateSentence(self):\n",
        "        sentence = list()\n",
        "        sentence.append('<s>')\n",
        "        track = self.wordCount.copy()\n",
        "        while True:\n",
        "            nextWord = random.choices(list(track.keys()), list(track.values()))[0]\n",
        "            sentence.append(nextWord)\n",
        "            if nextWord == '</s>':\n",
        "                break\n",
        "        return sentence\n",
        "\n",
        "    def getSentenceLogProbability(self, sentence):\n",
        "        currProb = 0.0\n",
        "        track = self.wordCount.copy()\n",
        "        total = sum(list(track.values()))\n",
        "        for word in sentence:\n",
        "            if word == '<s>':\n",
        "              continue\n",
        "            freq = track[word]/(total)\n",
        "            currProb += math.log(freq)\n",
        "        return currProb\n",
        "\n",
        "    def getCorpusPerplexity(self, testCorpus):\n",
        "        #N = sum(list(self.wordCount.values()))\n",
        "        N = 0\n",
        "        probSum = 0.0\n",
        "        for sentence in testCorpus:\n",
        "            logProb = self.getSentenceLogProbability(sentence)\n",
        "            probSum += logProb\n",
        "            N += len(sentence)-1\n",
        "        return 1/(math.exp(probSum*(1/N)))"
      ],
      "execution_count": null,
      "outputs": []
    },
    {
      "cell_type": "markdown",
      "metadata": {
        "id": "8c6zfDsT-GrU"
      },
      "source": [
        "We provide you with a testing function that uses very simple training & test corpora (you could compute probability/perplexity by hand if you wanted to). This is just a <b>sanity check</b> $-$ passing this test does not guarantee you a perfect score in the autograder; this is simply to help you debug your model."
      ]
    },
    {
      "cell_type": "code",
      "metadata": {
        "id": "o8uRRgLi6IVt",
        "colab": {
          "base_uri": "https://localhost:8080/"
        },
        "outputId": "88f5739a-785f-4dd6-b46c-13124a253cad"
      },
      "source": [
        "def sanityCheck(model_type):\n",
        "    assert model_type in {'unigram', 'bigram', 'smoothed-unigram', 'smoothed-bigram'}\n",
        "\n",
        "    #\tRead in the test corpus\n",
        "    train_corpus = [\"By the Late Classic , a network of few <unk> ( few <unk> ) linked various parts of the city , running for several kilometres through its urban core .\",\n",
        "    \"Few people realize how difficult it was to create Sonic 's graphics engine , which allowed for the incredible rate of speed the game 's known for .\"]\n",
        "    test_corpus = [\"Classic few parts of the game allowed for few <unk> <unk> incredible city .\",\n",
        "                   \"Few <unk> realize the difficult network , which linked the game to Sonic .\"]\n",
        "    train_corpus, _ = preprocess(train_corpus)\n",
        "    test_corpus, _ = preprocess(test_corpus)\n",
        "    sentence = preprocess([\"Sonic was difficult .\"])[0][0]\n",
        "\n",
        "    # These are the correct answers (don't change them!)\n",
        "    if model_type == \"unigram\":\n",
        "       senprobs = [-19.08542845, -114.5001481799, -108.7963657053, -53.6727664115, -55.4645258807]\n",
        "       trainPerp, testPerp = 41.3308239726, 38.0122981569\n",
        "       model = UnigramModel(train_corpus)\n",
        "    elif model_type == \"smoothed-unigram\":\n",
        "       senprobs = [-19.0405293515, -115.3479413049, -108.9114348746, -54.8190029616, -55.8122547346]\n",
        "       trainPerp, testPerp = 41.9994393615, 39.9531928383\n",
        "       model = SmoothedUnigramModel(train_corpus)\n",
        "    elif model_type == \"bigram\":\n",
        "       senprobs = [-float('inf'), -10.3450917073, -9.2464794186, -float('inf'), -float('inf')]\n",
        "       trainPerp, testPerp = 1.3861445461, float('inf')\n",
        "       model = BigramModel(train_corpus)\n",
        "    elif model_type == \"smoothed-bigram\":\n",
        "       senprobs = [-16.355820202, -76.0026113319, -74.2346475108, -47.2885760372, -51.2730261907]\n",
        "       trainPerp, testPerp = 12.2307627397, 26.7193157699\n",
        "       model = SmoothedBigramModelAD(train_corpus)\n",
        "    else: assert False, 'Invalid model_type'\n",
        "\n",
        "    print(\"--- TEST: generateSentence() ---\")\n",
        "    modelSen = model.generateSentence()\n",
        "    senTestPassed = isinstance(modelSen, list) and len(modelSen) > 1 and isinstance(modelSen[0], str)\n",
        "    if senTestPassed:\n",
        "        print (\"Test generateSentence() passed!\")\n",
        "    else:\n",
        "        print (\"Test generateSentence() failed; did not return a list of strings...\")\n",
        "\n",
        "    print(\"\\n--- TEST: getSentenceLogProbability(...) ---\")\n",
        "    sentences = [sentence, *train_corpus, *test_corpus]\n",
        "    failed = 0\n",
        "    for i in range(len(sentences)):\n",
        "        sen, correct_prob = sentences[i], senprobs[i]\n",
        "        prob = round(model.getSentenceLogProbability(sen), 10)\n",
        "        print(\"Correct log prob.:\", correct_prob, '\\tYour log prob.:', prob, '\\t', 'PASSED' if prob == correct_prob else 'FAILED', '\\t', sen)\n",
        "        if prob != correct_prob: failed+=1\n",
        "\n",
        "    if not failed:\n",
        "        print (\"Test getSentenceProbability(...) passed!\")\n",
        "    else:\n",
        "        print(\"Test getSentenceProbability(...) failed on\", failed, \"sentence\" if failed == 1 else 'sentences...')\n",
        "\n",
        "    print(\"\\n--- TEST: getCorpusPerplexity(...) ---\")\n",
        "    train_perp = round(model.getCorpusPerplexity(train_corpus), 10)\n",
        "    test_perp = round(model.getCorpusPerplexity(test_corpus), 10)\n",
        "\n",
        "    print(\"Correct train perp.:\", trainPerp, '\\tYour train perp.:', train_perp, '\\t', 'PASSED' if trainPerp == train_perp else 'FAILED')\n",
        "    print(\"Correct test perp.:\", testPerp, '\\tYour test perp.:', test_perp, '\\t', 'PASSED' if testPerp == test_perp else 'FAILED')\n",
        "    train_passed, test_passed = train_perp == trainPerp, test_perp == testPerp\n",
        "    if train_passed and test_passed:\n",
        "        print(\"Test getCorpusPerplexity(...) passed!\")\n",
        "    else:\n",
        "        print(\"Test getCorpusPerplexity(...) failed on\", \"the training corpus and the testing corpus...\" if not train_passed and not test_passed else \"the testing corpus...\" if not test_passed else \"the training corpus...\")\n",
        "\n",
        "if __name__=='__main__':\n",
        "    sanityCheck('unigram')"
      ],
      "execution_count": null,
      "outputs": [
        {
          "output_type": "stream",
          "name": "stdout",
          "text": [
            "--- TEST: generateSentence() ---\n",
            "Test generateSentence() passed!\n",
            "\n",
            "--- TEST: getSentenceLogProbability(...) ---\n",
            "Correct log prob.: -19.08542845 \tYour log prob.: -19.08542845 \t PASSED \t ['<s>', 'Sonic', 'was', 'difficult', '.', '</s>']\n",
            "Correct log prob.: -114.5001481799 \tYour log prob.: -114.5001481799 \t PASSED \t ['<s>', 'By', 'the', 'Late', 'Classic', ',', 'a', 'network', 'of', 'few', '<UNK>', '(', 'few', '<UNK>', ')', 'linked', 'various', 'parts', 'of', 'the', 'city', ',', 'running', 'for', 'several', 'kilometres', 'through', 'its', 'urban', 'core', '.', '</s>']\n",
            "Correct log prob.: -108.7963657053 \tYour log prob.: -108.7963657053 \t PASSED \t ['<s>', 'Few', 'people', 'realize', 'how', 'difficult', 'it', 'was', 'to', 'create', 'Sonic', \"'s\", 'graphics', 'engine', ',', 'which', 'allowed', 'for', 'the', 'incredible', 'rate', 'of', 'speed', 'the', 'game', \"'s\", 'known', 'for', '.', '</s>']\n",
            "Correct log prob.: -53.6727664115 \tYour log prob.: -53.6727664115 \t PASSED \t ['<s>', 'Classic', 'few', 'parts', 'of', 'the', 'game', 'allowed', 'for', 'few', '<UNK>', '<UNK>', 'incredible', 'city', '.', '</s>']\n",
            "Correct log prob.: -55.4645258807 \tYour log prob.: -55.4645258807 \t PASSED \t ['<s>', 'Few', '<UNK>', 'realize', 'the', 'difficult', 'network', ',', 'which', 'linked', 'the', 'game', 'to', 'Sonic', '.', '</s>']\n",
            "Test getSentenceProbability(...) passed!\n",
            "\n",
            "--- TEST: getCorpusPerplexity(...) ---\n",
            "Correct train perp.: 41.3308239726 \tYour train perp.: 41.3308239726 \t PASSED\n",
            "Correct test perp.: 38.0122981569 \tYour test perp.: 38.0122981569 \t PASSED\n",
            "Test getCorpusPerplexity(...) passed!\n"
          ]
        }
      ]
    },
    {
      "cell_type": "markdown",
      "metadata": {
        "id": "-Z8h9U63AkiG"
      },
      "source": [
        "Next, we provide you with another <b>sanity check</b> that trains your model on the *entire* training set, and tests your functions on a small corpus (10 sentences) of *real* test data.\n",
        "\n",
        "If your code is inefficient, you will likely see that this cell is taking too long. This cell is expected to run in fewer than <b>10 seconds</b>, so if it takes significantly longer than that, you should probably inspect your code for efficiency issues."
      ]
    },
    {
      "cell_type": "code",
      "source": [
        "def sanityCheckFullDataset(model_type):\n",
        "    model = UnigramModel(train_dataset)\n",
        "    idxes = list(range(75,7500, 800))\n",
        "    small_test_corpus = [test_dataset[idx] for idx in idxes]\n",
        "    if model_type == 'unigram':\n",
        "        senprobs = [-80.7782190984, -174.4769654449, -136.455148267, -225.5890741503, -719.0142129846, -236.350443633, -126.0056604204, -47.3424655612, -47.7775372096, -138.8159941929]\n",
        "        testPerp = 881.0132848704\n",
        "        model = UnigramModel(train_dataset)\n",
        "    elif model_type == 'smoothed-unigram':\n",
        "        senprobs = [-80.8423009715, -174.5131424172, -136.3181234818, -225.357454098, -719.1543898871, -236.6682968913, -126.1965419509, -47.4369338195, -47.7692144935, -138.542462715]\n",
        "        testPerp = 881.6105352831\n",
        "        model = SmoothedUnigramModel(train_dataset)\n",
        "    elif model_type == 'bigram':\n",
        "        senprobs = [-float('inf'), -float('inf'), -float('inf'), -float('inf'), -float('inf'), -float('inf'), -float('inf'), -32.1502020637, -float('inf'), -float('inf')]\n",
        "        testPerp = float ('inf')\n",
        "        model = BigramModel(train_dataset)\n",
        "    elif model_type == 'smoothed-bigram':\n",
        "        senprobs = [-61.3754065648, -141.9754903887, -107.0849366076, -168.4944718788, -619.9409055374, -195.8159911677, -86.3762008156, -32.4764801981, -48.124714509, -124.687107856]\n",
        "        testPerp = 261.4247123506\n",
        "        model = SmoothedBigramModelAD(train_dataset)\n",
        "    else: assert False, 'Invalid model_type'\n",
        "    print(\"\\n--- TEST: getSentenceLogProbability(...) ---\")\n",
        "    failed = 0\n",
        "    for i in range(len(small_test_corpus)):\n",
        "        sen, correct_prob = small_test_corpus[i], senprobs[i]\n",
        "        prob = round(model.getSentenceLogProbability(sen), 10)\n",
        "        print(\"Correct log prob.:\", correct_prob, '\\tYour log prob.:', prob, '\\t', 'PASSED' if prob == correct_prob else 'FAILED', '\\t', sen)\n",
        "        if prob != correct_prob: failed+=1\n",
        "\n",
        "    if not failed:\n",
        "        print (\"Test getSentenceProbability(...) passed!\")\n",
        "    else:\n",
        "        print(\"Test getSentenceProbability(...) failed on\", failed, \"sentence\" if failed == 1 else 'sentences...')\n",
        "\n",
        "    print(\"\\n--- TEST: getCorpusPerplexity(...) ---\")\n",
        "    test_perp = round(model.getCorpusPerplexity(small_test_corpus), 10)\n",
        "\n",
        "    print(\"Correct test perp.:\", testPerp, '\\tYour test perp.:', test_perp, '\\t', 'PASSED' if testPerp == test_perp else 'FAILED')\n",
        "    test_passed = test_perp == testPerp\n",
        "    if test_passed:\n",
        "        print(\"Test getCorpusPerplexity(...) passed!\")\n",
        "    else:\n",
        "        print(\"Test getCorpusPerplexity(...) failed on the testing corpus...\")\n",
        "\n",
        "if __name__=='__main__':\n",
        "    sanityCheckFullDataset('unigram')"
      ],
      "metadata": {
        "id": "_mCa6zasN-0j",
        "colab": {
          "base_uri": "https://localhost:8080/"
        },
        "outputId": "245dfeb5-5872-49fb-a093-c09064bdf48e"
      },
      "execution_count": null,
      "outputs": [
        {
          "output_type": "stream",
          "name": "stdout",
          "text": [
            "\n",
            "--- TEST: getSentenceLogProbability(...) ---\n",
            "Correct log prob.: -80.7782190984 \tYour log prob.: -80.7782190984 \t PASSED \t ['<s>', 'He', 'was', '<UNK>', 'at', '<UNK>', 'College', ',', 'Hobart', ',', 'and', '<UNK>', 'in', '1932', '.', '</s>']\n",
            "Correct log prob.: -174.4769654449 \tYour log prob.: -174.4769654449 \t PASSED \t ['<s>', 'Despite', 'being', 'a', 'rare', 'Grade', '9', 'player', 'on', 'the', 'senior', 'team', ',', 'he', 'was', 'one', 'of', 'the', 'Knights', \"'\", 'two', 'leading', 'rushers', 'that', 'year', '.', '</s>']\n",
            "Correct log prob.: -136.455148267 \tYour log prob.: -136.455148267 \t PASSED \t ['<s>', 'Burke', \"'s\", 'total', 'was', 'a', 'school', 'record', 'for', 'the', 'Big', 'Ten', 'Conference', 'Men', \"'s\", 'Basketball', 'Tournament', '.', '</s>']\n",
            "Correct log prob.: -225.5890741503 \tYour log prob.: -225.5890741503 \t PASSED \t ['<s>', 'The', 'route', 'turns', 'to', 'the', 'northeast', ',', 'passing', 'near', 'the', '<UNK>', 'Leaf', 'Lakes', 'residential', 'development', ',', 'before', 'coming', 'to', 'an', 'interchange', 'with', 'US', '322', '(', 'Black', 'Horse', 'Pike', ')', '.', '</s>']\n",
            "Correct log prob.: -719.0142129846 \tYour log prob.: -719.0142129846 \t PASSED \t ['<s>', 'Two', 'points', 'are', 'contested', ':', 'first', ',', 'whether', 'or', 'not', 'the', 'teachings', 'of', 'Scientology', 'qualify', 'as', 'a', '\"', 'religion', 'or', '<UNK>', '\"', '(', 'Religion', 'or', '<UNK>', ';', 'these', 'are', 'equal', 'before', 'German', 'law', ')', ',', 'and', '<UNK>', ',', 'whether', 'or', 'not', 'these', 'teachings', 'are', 'only', 'used', 'as', 'a', 'pretext', 'for', 'purely', 'commercial', 'activity', ';', 'if', 'the', 'latter', 'were', 'the', 'case', ',', 'this', 'would', 'most', 'likely', 'imply', 'that', 'Scientology', 'would', 'not', 'qualify', 'for', 'protection', 'as', 'a', '\"', 'religious', 'or', '<UNK>', 'community', '\"', '(', '<UNK>', 'oder', '<UNK>', ')', 'under', 'Article', '4', 'of', 'the', 'German', 'constitution', ',', 'which', 'guarantees', 'the', 'freedom', 'of', 'belief', ',', 'religion', 'and', '<UNK>', '.', '</s>']\n",
            "Correct log prob.: -236.350443633 \tYour log prob.: -236.350443633 \t PASSED \t ['<s>', 'He', 'immediately', 'ran', 'into', 'a', 'problem', ':', 'the', 'South', 'Carolina', 'troops', '(', 'militia', 'or', 'the', 'colonial', 'regiments', ')', 'were', 'not', 'on', 'the', 'Continental', 'line', ',', 'and', 'thus', 'not', 'formally', 'under', 'his', 'authority', '.', '</s>']\n",
            "Correct log prob.: -126.0056604204 \tYour log prob.: -126.0056604204 \t PASSED \t ['<s>', 'One', 'of', 'them', 'was', 'a', 'bodyguard', 'who', 'was', 'present', 'at', 'the', 'concert', 'but', 'did', 'not', 'see', 'the', 'fall', '.', '</s>']\n",
            "Correct log prob.: -47.3424655612 \tYour log prob.: -47.3424655612 \t PASSED \t ['<s>', '<UNK>', 'was', 'relieved', 'on', '17', 'May', '.', '</s>']\n",
            "Correct log prob.: -47.7775372096 \tYour log prob.: -47.7775372096 \t PASSED \t ['<s>', 'US', 'Off', 'The', 'Planet', '!', '</s>']\n",
            "Correct log prob.: -138.8159941929 \tYour log prob.: -138.8159941929 \t PASSED \t ['<s>', 'The', 'difficulty', 'stems', 'from', 'the', 'relative', 'over', '@-@', 'stabilization', 'of', 'the', '<UNK>', 'cation', 'by', 'electron', 'donation', ',', '<UNK>', '<UNK>', '.', '</s>']\n",
            "Test getSentenceProbability(...) passed!\n",
            "\n",
            "--- TEST: getCorpusPerplexity(...) ---\n",
            "Correct test perp.: 881.0132848704 \tYour test perp.: 881.0132848704 \t PASSED\n",
            "Test getCorpusPerplexity(...) passed!\n"
          ]
        }
      ]
    },
    {
      "cell_type": "markdown",
      "source": [
        "Finally, you can train your model on the full WikiText corpus, and evaluate it on the held-out test set."
      ],
      "metadata": {
        "id": "lYJ0x5KpRrtU"
      }
    },
    {
      "cell_type": "code",
      "metadata": {
        "id": "s1XHIg0xrUIt",
        "colab": {
          "base_uri": "https://localhost:8080/"
        },
        "outputId": "beb94877-6f03-49ef-f7ce-11870d1827af"
      },
      "source": [
        "def runModel(model_type):\n",
        "    assert model_type in {'unigram', 'bigram', 'smoothed-unigram', 'smoothed-bigram'}\n",
        "    # Read the corpora\n",
        "    if model_type == 'unigram':\n",
        "        model = UnigramModel(train_dataset)\n",
        "    elif model_type == 'bigram':\n",
        "        model = BigramModel(train_dataset)\n",
        "    elif model_type == 'smoothed-unigram':\n",
        "        model = SmoothedUnigramModel(train_dataset)\n",
        "    else:\n",
        "        model = SmoothedBigramModelAD(train_dataset)\n",
        "\n",
        "    print(\"--------- 5 sentences from your model ---------\")\n",
        "    model.printSentences(5)\n",
        "\n",
        "    print (\"\\n--------- Corpus Perplexities ---------\")\n",
        "    print (\"Training Set:\", model.getCorpusPerplexity(train_dataset))\n",
        "    print (\"Testing Set:\", model.getCorpusPerplexity(test_dataset))\n",
        "\n",
        "if __name__=='__main__':\n",
        "    runModel('unigram')"
      ],
      "execution_count": null,
      "outputs": [
        {
          "output_type": "stream",
          "name": "stdout",
          "text": [
            "--------- 5 sentences from your model ---------\n",
            "Log Probability: -341.56440491235276 \tSentence: ['<s>', 'had', 'MTV', 'escorting', 'tailed', 'in', 'the', ',', '.', 'over', 'individuals', 'in', 'wrought', 'backup', '(', 'reggaeton', 'on', 'in', 'Oscar', 'to', 'the', 'them', '.', 'was', 'after', 'a', 'and', 'No.', 'considered', '<UNK>', 'more', 'Humphrey', 'is', 'the', 'that', ',', 'Company', 'America', ',', 'listed', 'muscles', 'actin', 'Song', 'is', '100', 'State', '<UNK>', 'to', 'of', 'The', 'when', 'a', '</s>']\n",
            "Log Probability: -416.82711136402764 \tSentence: ['<s>', 'Shiva', 'notes', 'over', 'issue', ',', 'to', 'in', 'favor', 'mile', 'was', 'Moon', 'It', 'Saint', '.', ':', ',', 'AP', '.', 'by', ',', 'a', 'indicating', ',', 'country', '.', 'biography', ',', '&', 'unnecessary', 'paintings', 'in', ';', 'Bowl', 'a', ')', 'first', 'passed', '<UNK>', 'that', 'and', 'rails', 'to', 'to', 'inadvertently', 'Christopher', 'had', 'H.', 'the', 'down', 'clock', 'Duke', 'flushed', 'the', 'full', 'box', 'originally', 'ballad', 'from', '</s>']\n",
            "Log Probability: -111.39543542111412 \tSentence: ['<s>', 'a', 'summer', 'the', 'London', '–', 'Prism', 'Ha', 'growth', ',', '.', 'well', 'in', 'French', \"'s\", 'financial', 'of', '</s>']\n",
            "Log Probability: -136.65628523790335 \tSentence: ['<s>', '@.@', 'helped', 'held', 'nesting', 'I', 'tax', 'closely', '\"', 'Fountain', 'Nursing', 'Come', 'of', 'The', 'questions', 'played', ',', '</s>']\n",
            "Log Probability: -121.70128198285958 \tSentence: ['<s>', 'Despite', 'by', '.', 'association', 'II', 'year', '[', 'of', 'by', 'of', 'weapons', 'attention', 'wet', '(', 'Quinn', 'Although', '</s>']\n",
            "\n",
            "--------- Corpus Perplexities ---------\n",
            "Training Set: 1101.9435880266938\n",
            "Testing Set: 912.1574385930448\n"
          ]
        }
      ]
    },
    {
      "cell_type": "markdown",
      "metadata": {
        "id": "2bGyA8vOfvRj"
      },
      "source": [
        "## <font color='red'>TODO:</font> Smoothed Unigram Model [15 points]\n",
        "\n",
        "Here, you will implement each of the 4 functions described above for a <b>unigram</b> model with <b>Laplace (add-one) smoothing</b>. The probability distribution of a word is given by $P_L(w)$. This type of smoothing takes away some of the probability mass for observed events and assigns it to unseen events.\n",
        "\n",
        "In order to smooth your model, you will need the number of words in the corpus, $N$, and the number of word types, $S$. The distinction between these is meaningful: $N$ indicates the number of word instances, where $S$ refers to the size of our vocabulary. For example, the sentence <em>the cat saw the dog</em> has four word types (<em>the</em>, <em>cat</em>, <em>saw</em>, <em>dog</em>), but five word tokens (<em>the</em>, <em>cat</em>, <em>saw</em>, <em>the</em>, <em>dog</em>). The token <em>the</em> appears twice in the sentence, but they share the same type <em>the</em>.\n",
        "\n",
        "If $c(w)$ is the frequency of $w$ in the training data, you can compute $P_L(w)$ as follows:\n",
        "\n",
        "$$P_L(w)=\\frac{c(w)+1}{N+S}$$\n",
        "\n",
        "<font color='green'><b>Hints:</b></font>\n",
        "* <font color='green'>You may find it convenient to make your `SmoothedUnigramModel` inherit your `UnigramModel`, and then override the function(s) that need to be changed.</font>"
      ]
    },
    {
      "cell_type": "code",
      "metadata": {
        "id": "wzX-UZJPfvRn"
      },
      "source": [
        "class SmoothedUnigramModel(LanguageModel):\n",
        "    def __init__(self, trainCorpus):\n",
        "        self.wordCount = dict()\n",
        "        for sentence in trainCorpus:\n",
        "          for word in sentence:\n",
        "            if word == '<s>':\n",
        "              continue\n",
        "            if word in self.wordCount:\n",
        "              self.wordCount[word] = self.wordCount[word] + 1\n",
        "            else:\n",
        "              self.wordCount[word] = 1\n",
        "        numWords = sum(list(self.wordCount.values()))\n",
        "        vocabSize = len(list(self.wordCount.keys()))\n",
        "        for word in self.wordCount:\n",
        "            occ = self.wordCount[word]\n",
        "            self.wordCount[word] = (occ+1.0)#/(numWords+vocabSize)\n",
        "\n",
        "    def generateSentence(self):\n",
        "\n",
        "        sentence = list()\n",
        "        sentence.append('<s>')\n",
        "        track = self.wordCount.copy()\n",
        "        while True:\n",
        "            nextWord = random.choices(list(track.keys()), list(track.values()))[0]\n",
        "            sentence.append(nextWord)\n",
        "            if nextWord == '</s>':\n",
        "                break\n",
        "        return sentence\n",
        "\n",
        "    def getSentenceLogProbability(self, sentence):\n",
        "\n",
        "        currProb = 0.0\n",
        "        track = self.wordCount.copy()\n",
        "        total = sum(list(track.values()))\n",
        "        for word in sentence:\n",
        "            if word == '<s>':\n",
        "              continue\n",
        "            freq = track[word]/(total)\n",
        "            currProb += math.log(freq)\n",
        "        return currProb\n",
        "\n",
        "    def getCorpusPerplexity(self, testCorpus):\n",
        "\n",
        "        N = 0\n",
        "        probSum = 0.0\n",
        "        for sentence in testCorpus:\n",
        "            logProb = self.getSentenceLogProbability(sentence)\n",
        "            probSum += logProb\n",
        "            N += len(sentence)-1\n",
        "        return 1/(math.exp(probSum*(1/N)))"
      ],
      "execution_count": null,
      "outputs": []
    },
    {
      "cell_type": "code",
      "metadata": {
        "id": "rBy9QaEdCUbc",
        "colab": {
          "base_uri": "https://localhost:8080/"
        },
        "outputId": "950df828-f77d-46f3-f19a-92cf6a6e6ad4"
      },
      "source": [
        "if __name__=='__main__':\n",
        "    sanityCheck('smoothed-unigram')"
      ],
      "execution_count": null,
      "outputs": [
        {
          "output_type": "stream",
          "name": "stdout",
          "text": [
            "--- TEST: generateSentence() ---\n",
            "Test generateSentence() passed!\n",
            "\n",
            "--- TEST: getSentenceLogProbability(...) ---\n",
            "Correct log prob.: -19.0405293515 \tYour log prob.: -19.0405293515 \t PASSED \t ['<s>', 'Sonic', 'was', 'difficult', '.', '</s>']\n",
            "Correct log prob.: -115.3479413049 \tYour log prob.: -115.3479413049 \t PASSED \t ['<s>', 'By', 'the', 'Late', 'Classic', ',', 'a', 'network', 'of', 'few', '<UNK>', '(', 'few', '<UNK>', ')', 'linked', 'various', 'parts', 'of', 'the', 'city', ',', 'running', 'for', 'several', 'kilometres', 'through', 'its', 'urban', 'core', '.', '</s>']\n",
            "Correct log prob.: -108.9114348746 \tYour log prob.: -108.9114348746 \t PASSED \t ['<s>', 'Few', 'people', 'realize', 'how', 'difficult', 'it', 'was', 'to', 'create', 'Sonic', \"'s\", 'graphics', 'engine', ',', 'which', 'allowed', 'for', 'the', 'incredible', 'rate', 'of', 'speed', 'the', 'game', \"'s\", 'known', 'for', '.', '</s>']\n",
            "Correct log prob.: -54.8190029616 \tYour log prob.: -54.8190029616 \t PASSED \t ['<s>', 'Classic', 'few', 'parts', 'of', 'the', 'game', 'allowed', 'for', 'few', '<UNK>', '<UNK>', 'incredible', 'city', '.', '</s>']\n",
            "Correct log prob.: -55.8122547346 \tYour log prob.: -55.8122547346 \t PASSED \t ['<s>', 'Few', '<UNK>', 'realize', 'the', 'difficult', 'network', ',', 'which', 'linked', 'the', 'game', 'to', 'Sonic', '.', '</s>']\n",
            "Test getSentenceProbability(...) passed!\n",
            "\n",
            "--- TEST: getCorpusPerplexity(...) ---\n",
            "Correct train perp.: 41.9994393615 \tYour train perp.: 41.9994393615 \t PASSED\n",
            "Correct test perp.: 39.9531928383 \tYour test perp.: 39.9531928383 \t PASSED\n",
            "Test getCorpusPerplexity(...) passed!\n"
          ]
        }
      ]
    },
    {
      "cell_type": "markdown",
      "source": [
        "Since the next sanity check trains your model on the *entire* training set, you will likely see that it is taking too long if you have inefficiences in your code. This cell is expected to run in fewer than <b>10 seconds</b>, so if it takes significantly longer than that, you should probably inspect your code for efficiency issues."
      ],
      "metadata": {
        "id": "pxeKnWk1TTfF"
      }
    },
    {
      "cell_type": "code",
      "source": [
        "if __name__=='__main__':\n",
        "    sanityCheckFullDataset('smoothed-unigram')"
      ],
      "metadata": {
        "id": "210t2j1GS1Xd",
        "colab": {
          "base_uri": "https://localhost:8080/"
        },
        "outputId": "6d45ada2-5b14-47c7-88c4-c3f4aa1fc292"
      },
      "execution_count": null,
      "outputs": [
        {
          "output_type": "stream",
          "name": "stdout",
          "text": [
            "\n",
            "--- TEST: getSentenceLogProbability(...) ---\n",
            "Correct log prob.: -80.8423009715 \tYour log prob.: -80.8423009715 \t PASSED \t ['<s>', 'He', 'was', '<UNK>', 'at', '<UNK>', 'College', ',', 'Hobart', ',', 'and', '<UNK>', 'in', '1932', '.', '</s>']\n",
            "Correct log prob.: -174.5131424172 \tYour log prob.: -174.5131424172 \t PASSED \t ['<s>', 'Despite', 'being', 'a', 'rare', 'Grade', '9', 'player', 'on', 'the', 'senior', 'team', ',', 'he', 'was', 'one', 'of', 'the', 'Knights', \"'\", 'two', 'leading', 'rushers', 'that', 'year', '.', '</s>']\n",
            "Correct log prob.: -136.3181234818 \tYour log prob.: -136.3181234818 \t PASSED \t ['<s>', 'Burke', \"'s\", 'total', 'was', 'a', 'school', 'record', 'for', 'the', 'Big', 'Ten', 'Conference', 'Men', \"'s\", 'Basketball', 'Tournament', '.', '</s>']\n",
            "Correct log prob.: -225.357454098 \tYour log prob.: -225.357454098 \t PASSED \t ['<s>', 'The', 'route', 'turns', 'to', 'the', 'northeast', ',', 'passing', 'near', 'the', '<UNK>', 'Leaf', 'Lakes', 'residential', 'development', ',', 'before', 'coming', 'to', 'an', 'interchange', 'with', 'US', '322', '(', 'Black', 'Horse', 'Pike', ')', '.', '</s>']\n",
            "Correct log prob.: -719.1543898871 \tYour log prob.: -719.1543898871 \t PASSED \t ['<s>', 'Two', 'points', 'are', 'contested', ':', 'first', ',', 'whether', 'or', 'not', 'the', 'teachings', 'of', 'Scientology', 'qualify', 'as', 'a', '\"', 'religion', 'or', '<UNK>', '\"', '(', 'Religion', 'or', '<UNK>', ';', 'these', 'are', 'equal', 'before', 'German', 'law', ')', ',', 'and', '<UNK>', ',', 'whether', 'or', 'not', 'these', 'teachings', 'are', 'only', 'used', 'as', 'a', 'pretext', 'for', 'purely', 'commercial', 'activity', ';', 'if', 'the', 'latter', 'were', 'the', 'case', ',', 'this', 'would', 'most', 'likely', 'imply', 'that', 'Scientology', 'would', 'not', 'qualify', 'for', 'protection', 'as', 'a', '\"', 'religious', 'or', '<UNK>', 'community', '\"', '(', '<UNK>', 'oder', '<UNK>', ')', 'under', 'Article', '4', 'of', 'the', 'German', 'constitution', ',', 'which', 'guarantees', 'the', 'freedom', 'of', 'belief', ',', 'religion', 'and', '<UNK>', '.', '</s>']\n",
            "Correct log prob.: -236.6682968913 \tYour log prob.: -236.6682968913 \t PASSED \t ['<s>', 'He', 'immediately', 'ran', 'into', 'a', 'problem', ':', 'the', 'South', 'Carolina', 'troops', '(', 'militia', 'or', 'the', 'colonial', 'regiments', ')', 'were', 'not', 'on', 'the', 'Continental', 'line', ',', 'and', 'thus', 'not', 'formally', 'under', 'his', 'authority', '.', '</s>']\n",
            "Correct log prob.: -126.1965419509 \tYour log prob.: -126.1965419509 \t PASSED \t ['<s>', 'One', 'of', 'them', 'was', 'a', 'bodyguard', 'who', 'was', 'present', 'at', 'the', 'concert', 'but', 'did', 'not', 'see', 'the', 'fall', '.', '</s>']\n",
            "Correct log prob.: -47.4369338195 \tYour log prob.: -47.4369338195 \t PASSED \t ['<s>', '<UNK>', 'was', 'relieved', 'on', '17', 'May', '.', '</s>']\n",
            "Correct log prob.: -47.7692144935 \tYour log prob.: -47.7692144935 \t PASSED \t ['<s>', 'US', 'Off', 'The', 'Planet', '!', '</s>']\n",
            "Correct log prob.: -138.542462715 \tYour log prob.: -138.542462715 \t PASSED \t ['<s>', 'The', 'difficulty', 'stems', 'from', 'the', 'relative', 'over', '@-@', 'stabilization', 'of', 'the', '<UNK>', 'cation', 'by', 'electron', 'donation', ',', '<UNK>', '<UNK>', '.', '</s>']\n",
            "Test getSentenceProbability(...) passed!\n",
            "\n",
            "--- TEST: getCorpusPerplexity(...) ---\n",
            "Correct test perp.: 881.6105352831 \tYour test perp.: 881.6105352831 \t PASSED\n",
            "Test getCorpusPerplexity(...) passed!\n"
          ]
        }
      ]
    },
    {
      "cell_type": "code",
      "metadata": {
        "id": "6agWmpjdCWOt",
        "colab": {
          "base_uri": "https://localhost:8080/"
        },
        "outputId": "cfda0134-7c49-4bfb-eb10-d2e5134b93e5"
      },
      "source": [
        "if __name__=='__main__':\n",
        "    runModel('smoothed-unigram')"
      ],
      "execution_count": null,
      "outputs": [
        {
          "output_type": "stream",
          "name": "stdout",
          "text": [
            "--------- 5 sentences from your model ---------\n",
            "Log Probability: -80.4961059200074 \tSentence: ['<s>', 'accused', 'three', 'PRG', 'tradition', 'of', 'located', '2008', 'was', 'the', ',', 'two', '</s>']\n",
            "Log Probability: -228.29138580323166 \tSentence: ['<s>', 'a', 'area', 'in', 'Olympic', 'and', 'Braun', 'RAAF', 'protests', '<UNK>', 'Gaelic', 'the', 'final', 'carried', 'young', 'Anand', '2010', 'enough', '\"', '<UNK>', 'do', 'division', 'the', 'Dylan', '.', '.', 'ibotenic', 'reserves', 'by', 'are', 'constant', '</s>']\n",
            "Log Probability: -506.7019251710034 \tSentence: ['<s>', 'meetings', 'yet', 'tracked', '.', 'sector', 'body', 'and', 'Allen', 'of', 'laid', '.', '.', '@-@', '.', 'to', '<UNK>', 'her', 'German', 'were', 'the', 'judo', 'the', 'and', 'War', '’', 'box', 'to', 'upon', 'Dutchman', 'detectors', 'State', 'river', 'of', ',', '.', 'Theodor', 'retreating', 'metal', 'referendum', 'Isabella', 'greater', 'her', 'controversial', ',', 'number', 'commercial', '–', 'Basement', 'experiences', 'Liberty', 'the', 'and', 'just', 'game', 'Tapes', 'large', 'Cristina', 'even', 'filled', 'all', 'high', 'her', '...', 'a', 'the', 'During', '1896', '</s>']\n",
            "Log Probability: -340.4950877495566 \tSentence: ['<s>', 'the', '7', 'cladogram', ',', 'brigade', 'that', 'Crocodile', 'of', 'a', 'the', 'of', 'was', '.', '<UNK>', 'Hill', 'to', 'by', 'Weekly', 'may', 'million', 'Hart', 'the', 'contemplation', 'featuring', 'who', 'and', 'star', 'entertaining', '.', 'the', 'sky', 'The', 'use', 'feet', 'line', 'inch', 'the', 'the', 'some', 'hat', 'confront', 'only', 'Kent', 'Ludlow', 'seem', '\"', 'Bachchan', '</s>']\n",
            "Log Probability: -187.20602333833313 \tSentence: ['<s>', '75', 'of', 'Mogadishu', 'played', '.', 'bulk', 'in', '<UNK>', 'their', 'Although', 'to', 'reaching', 'the', 'Old', 'without', 'as', 'Carter', 'Latin', 'by', '262', 'Mexican', 'Sato', 'areas', 'young', '</s>']\n",
            "\n",
            "--------- Corpus Perplexities ---------\n",
            "Training Set: 1103.0243317444865\n",
            "Testing Set: 914.4724502283169\n"
          ]
        }
      ]
    },
    {
      "cell_type": "markdown",
      "metadata": {
        "id": "vGtcWVMGiEGw"
      },
      "source": [
        "## <font color='red'>TODO:</font> Bigram Model [15 points]\n",
        "\n",
        "Here, you will implement each of the 4 functions described above for an <b>unsmoothed bigram</b> model. The probability distribution of a word is given by $\\hat P(w'|w)$. Thus, the probability of $w_i$ is conditioned on $w_{i-1}$.\n",
        "\n",
        "<font color='green'><b>Hints:</b></font>\n",
        "* <font color='green'>You should use a dictionary of dictionaries to store your bigram counts. That is, the outer dictionary should map $w$ to another dictionary that maps $w'$ to the number of times $w'$ occurs after $w$.</font>\n",
        "* <font color='green'>Do <b>not</b> attempt to iterate over all possible bigrams in your voabulary: <em>only store bigrams that actually occur in your training data.</em> You will run into timeout or out-of-memory issues if you attempt to enumerate all bigrams.</font>\n",
        "* <font color='green'>Similarly, avoid nested loops over the training data.</font>"
      ]
    },
    {
      "cell_type": "code",
      "metadata": {
        "id": "_ojk_q0YiEGx"
      },
      "source": [
        "class BigramModel(LanguageModel):\n",
        "    def __init__(self, trainCorpus):\n",
        "\n",
        "        self.wordCount = dict()\n",
        "        for sentence in trainCorpus:\n",
        "            for i in range(len(sentence)-1):\n",
        "                firstWord = sentence[i]\n",
        "                secondWord = sentence[i+1]\n",
        "                if firstWord in self.wordCount:\n",
        "                    if secondWord in self.wordCount[firstWord]:\n",
        "                        self.wordCount[firstWord][secondWord] = self.wordCount[firstWord][secondWord] + 1\n",
        "                    else:\n",
        "                        self.wordCount[firstWord][secondWord] = dict()\n",
        "                        self.wordCount[firstWord][secondWord] = 1\n",
        "                else:\n",
        "                    self.wordCount[firstWord] = dict()\n",
        "                    self.wordCount[firstWord][secondWord] = 1\n",
        "\n",
        "\n",
        "    def generateSentence(self):\n",
        "\n",
        "        sentence = list()\n",
        "        sentence.append('<s>')\n",
        "        track = self.wordCount.copy()\n",
        "        lastWord = sentence[0]\n",
        "        while True:\n",
        "            nextWord = random.choices(list(track[lastWord].keys()), list(track[lastWord].values()))[0]\n",
        "            sentence.append(nextWord)\n",
        "            if nextWord == '</s>':\n",
        "                break\n",
        "            lastWord = nextWord\n",
        "        return sentence\n",
        "\n",
        "    def getSentenceLogProbability(self, sentence):\n",
        "        #print(self.wordCount)\n",
        "        currProb = 0.0\n",
        "        track = self.wordCount.copy()\n",
        "        for i in range(len(sentence)-1):\n",
        "            firstWord = sentence[i]\n",
        "            secondWord = sentence[i+1]\n",
        "            total = sum(track[firstWord].values())\n",
        "            if secondWord in track[firstWord]:\n",
        "                freq = track[firstWord][secondWord]/(total)\n",
        "                currProb += math.log(freq)\n",
        "            else:\n",
        "                return float('-inf')\n",
        "        return currProb\n",
        "\n",
        "    def getCorpusPerplexity(self, testCorpus):\n",
        "\n",
        "        N = 0\n",
        "        probSum = 0.0\n",
        "        for sentence in testCorpus:\n",
        "            logProb = self.getSentenceLogProbability(sentence)\n",
        "            probSum += logProb\n",
        "            N += len(sentence)-1\n",
        "        temp = math.exp(probSum*(1/N))\n",
        "        if temp == 0:\n",
        "            return float('inf')\n",
        "        return 1/(math.exp(probSum*(1/N)))"
      ],
      "execution_count": null,
      "outputs": []
    },
    {
      "cell_type": "code",
      "metadata": {
        "id": "7J8O8mCICZO5",
        "colab": {
          "base_uri": "https://localhost:8080/"
        },
        "outputId": "666d21c7-cd68-4011-c915-a944324ca171"
      },
      "source": [
        "if __name__=='__main__':\n",
        "    sanityCheck('bigram')"
      ],
      "execution_count": null,
      "outputs": [
        {
          "output_type": "stream",
          "name": "stdout",
          "text": [
            "--- TEST: generateSentence() ---\n",
            "Test generateSentence() passed!\n",
            "\n",
            "--- TEST: getSentenceLogProbability(...) ---\n",
            "Correct log prob.: -inf \tYour log prob.: -inf \t PASSED \t ['<s>', 'Sonic', 'was', 'difficult', '.', '</s>']\n",
            "Correct log prob.: -10.3450917073 \tYour log prob.: -10.3450917073 \t PASSED \t ['<s>', 'By', 'the', 'Late', 'Classic', ',', 'a', 'network', 'of', 'few', '<UNK>', '(', 'few', '<UNK>', ')', 'linked', 'various', 'parts', 'of', 'the', 'city', ',', 'running', 'for', 'several', 'kilometres', 'through', 'its', 'urban', 'core', '.', '</s>']\n",
            "Correct log prob.: -9.2464794186 \tYour log prob.: -9.2464794186 \t PASSED \t ['<s>', 'Few', 'people', 'realize', 'how', 'difficult', 'it', 'was', 'to', 'create', 'Sonic', \"'s\", 'graphics', 'engine', ',', 'which', 'allowed', 'for', 'the', 'incredible', 'rate', 'of', 'speed', 'the', 'game', \"'s\", 'known', 'for', '.', '</s>']\n",
            "Correct log prob.: -inf \tYour log prob.: -inf \t PASSED \t ['<s>', 'Classic', 'few', 'parts', 'of', 'the', 'game', 'allowed', 'for', 'few', '<UNK>', '<UNK>', 'incredible', 'city', '.', '</s>']\n",
            "Correct log prob.: -inf \tYour log prob.: -inf \t PASSED \t ['<s>', 'Few', '<UNK>', 'realize', 'the', 'difficult', 'network', ',', 'which', 'linked', 'the', 'game', 'to', 'Sonic', '.', '</s>']\n",
            "Test getSentenceProbability(...) passed!\n",
            "\n",
            "--- TEST: getCorpusPerplexity(...) ---\n",
            "Correct train perp.: 1.3861445461 \tYour train perp.: 1.3861445461 \t PASSED\n",
            "Correct test perp.: inf \tYour test perp.: inf \t PASSED\n",
            "Test getCorpusPerplexity(...) passed!\n"
          ]
        }
      ]
    },
    {
      "cell_type": "markdown",
      "source": [
        "Since the next sanity check trains your model on the *entire* training set, you will likely see that it is taking too long if you have inefficiences in your code. This cell is expected to run in fewer than <b>10 seconds</b>, so if it takes significantly longer than that, you should probably inspect your code for efficiency issues."
      ],
      "metadata": {
        "id": "IMcAZYrpUE0W"
      }
    },
    {
      "cell_type": "code",
      "source": [
        "if __name__=='__main__':\n",
        "    sanityCheckFullDataset('bigram')"
      ],
      "metadata": {
        "id": "DIolz_8sS3B9",
        "colab": {
          "base_uri": "https://localhost:8080/"
        },
        "outputId": "b8954984-c580-4632-bef2-c88e348fabe8"
      },
      "execution_count": null,
      "outputs": [
        {
          "output_type": "stream",
          "name": "stdout",
          "text": [
            "\n",
            "--- TEST: getSentenceLogProbability(...) ---\n",
            "Correct log prob.: -inf \tYour log prob.: -inf \t PASSED \t ['<s>', 'He', 'was', '<UNK>', 'at', '<UNK>', 'College', ',', 'Hobart', ',', 'and', '<UNK>', 'in', '1932', '.', '</s>']\n",
            "Correct log prob.: -inf \tYour log prob.: -inf \t PASSED \t ['<s>', 'Despite', 'being', 'a', 'rare', 'Grade', '9', 'player', 'on', 'the', 'senior', 'team', ',', 'he', 'was', 'one', 'of', 'the', 'Knights', \"'\", 'two', 'leading', 'rushers', 'that', 'year', '.', '</s>']\n",
            "Correct log prob.: -inf \tYour log prob.: -inf \t PASSED \t ['<s>', 'Burke', \"'s\", 'total', 'was', 'a', 'school', 'record', 'for', 'the', 'Big', 'Ten', 'Conference', 'Men', \"'s\", 'Basketball', 'Tournament', '.', '</s>']\n",
            "Correct log prob.: -inf \tYour log prob.: -inf \t PASSED \t ['<s>', 'The', 'route', 'turns', 'to', 'the', 'northeast', ',', 'passing', 'near', 'the', '<UNK>', 'Leaf', 'Lakes', 'residential', 'development', ',', 'before', 'coming', 'to', 'an', 'interchange', 'with', 'US', '322', '(', 'Black', 'Horse', 'Pike', ')', '.', '</s>']\n",
            "Correct log prob.: -inf \tYour log prob.: -inf \t PASSED \t ['<s>', 'Two', 'points', 'are', 'contested', ':', 'first', ',', 'whether', 'or', 'not', 'the', 'teachings', 'of', 'Scientology', 'qualify', 'as', 'a', '\"', 'religion', 'or', '<UNK>', '\"', '(', 'Religion', 'or', '<UNK>', ';', 'these', 'are', 'equal', 'before', 'German', 'law', ')', ',', 'and', '<UNK>', ',', 'whether', 'or', 'not', 'these', 'teachings', 'are', 'only', 'used', 'as', 'a', 'pretext', 'for', 'purely', 'commercial', 'activity', ';', 'if', 'the', 'latter', 'were', 'the', 'case', ',', 'this', 'would', 'most', 'likely', 'imply', 'that', 'Scientology', 'would', 'not', 'qualify', 'for', 'protection', 'as', 'a', '\"', 'religious', 'or', '<UNK>', 'community', '\"', '(', '<UNK>', 'oder', '<UNK>', ')', 'under', 'Article', '4', 'of', 'the', 'German', 'constitution', ',', 'which', 'guarantees', 'the', 'freedom', 'of', 'belief', ',', 'religion', 'and', '<UNK>', '.', '</s>']\n",
            "Correct log prob.: -inf \tYour log prob.: -inf \t PASSED \t ['<s>', 'He', 'immediately', 'ran', 'into', 'a', 'problem', ':', 'the', 'South', 'Carolina', 'troops', '(', 'militia', 'or', 'the', 'colonial', 'regiments', ')', 'were', 'not', 'on', 'the', 'Continental', 'line', ',', 'and', 'thus', 'not', 'formally', 'under', 'his', 'authority', '.', '</s>']\n",
            "Correct log prob.: -inf \tYour log prob.: -inf \t PASSED \t ['<s>', 'One', 'of', 'them', 'was', 'a', 'bodyguard', 'who', 'was', 'present', 'at', 'the', 'concert', 'but', 'did', 'not', 'see', 'the', 'fall', '.', '</s>']\n",
            "Correct log prob.: -32.1502020637 \tYour log prob.: -32.1502020637 \t PASSED \t ['<s>', '<UNK>', 'was', 'relieved', 'on', '17', 'May', '.', '</s>']\n",
            "Correct log prob.: -inf \tYour log prob.: -inf \t PASSED \t ['<s>', 'US', 'Off', 'The', 'Planet', '!', '</s>']\n",
            "Correct log prob.: -inf \tYour log prob.: -inf \t PASSED \t ['<s>', 'The', 'difficulty', 'stems', 'from', 'the', 'relative', 'over', '@-@', 'stabilization', 'of', 'the', '<UNK>', 'cation', 'by', 'electron', 'donation', ',', '<UNK>', '<UNK>', '.', '</s>']\n",
            "Test getSentenceProbability(...) passed!\n",
            "\n",
            "--- TEST: getCorpusPerplexity(...) ---\n",
            "Correct test perp.: inf \tYour test perp.: inf \t PASSED\n",
            "Test getCorpusPerplexity(...) passed!\n"
          ]
        }
      ]
    },
    {
      "cell_type": "code",
      "metadata": {
        "id": "bKop-qYKCZO5",
        "colab": {
          "base_uri": "https://localhost:8080/"
        },
        "outputId": "4c492caf-2e03-4674-ff24-cf132b23cf55"
      },
      "source": [
        "if __name__=='__main__':\n",
        "    runModel('bigram')"
      ],
      "execution_count": null,
      "outputs": [
        {
          "output_type": "stream",
          "name": "stdout",
          "text": [
            "--------- 5 sentences from your model ---------\n",
            "Log Probability: -19.100225720300188 \tSentence: ['<s>', 'Along', 'with', 'attendees', '.', '</s>']\n",
            "Log Probability: -11.998261208248897 \tSentence: ['<s>', 'In', 'the', 'series', '.', '</s>']\n",
            "Log Probability: -63.663075511040034 \tSentence: ['<s>', 'However', ',', 'and', 'Rich', 'Girl', '(', 'known', 'for', 'its', 'admission', ',', 'including', 'grass', 'athletics', '.', '</s>']\n",
            "Log Probability: -34.20101868197841 \tSentence: ['<s>', 'As', 'the', 'Omaha', 'was', 'truncated', 'seven', 'days', '.', '</s>']\n",
            "Log Probability: -63.934353432252585 \tSentence: ['<s>', 'The', 'Gazette', ',', 'but', 'as', 'many', 'admirers', ',', 'which', 'she', \"'s\", 'regime', 'following', 'season', '.', '</s>']\n",
            "\n",
            "--------- Corpus Perplexities ---------\n",
            "Training Set: 76.92394608735728\n",
            "Testing Set: inf\n"
          ]
        }
      ]
    },
    {
      "cell_type": "markdown",
      "metadata": {
        "id": "WPBeyKUsfnnW"
      },
      "source": [
        "## <font color='red'>TODO:</font> Smoothed Bigram Model [15 points]\n",
        "\n",
        "Here, you will implement each of the 4 functions described above for a <b>bigram</b> model with <b>absolute discounting</b>. The probability distribution of a word is given by $P_{AD}(w’|w)$.\n",
        "\n",
        "In order to smooth your model, you need to compute a discounting factor $D$. If $n_k$ is the number of bigrams $w_1w_2$ that appear exactly $k$ times, you can compute $D$ as:\n",
        "\n",
        "$$D=\\frac{n_1}{n_1+2n_2}$$\n",
        "\n",
        "For each word $w$, you then need to compute the number of bigram types $ww’$ as follows:\n",
        "\n",
        "$$S(w)=|\\{w’\\mid c(ww’)>0\\}|$$\n",
        "\n",
        "where $c(ww’)$ is the frequency of $ww’$ in the training data. In other words, $S(w)$ is the number of unique words that follow $w$ at least once in the training data.\n",
        "\n",
        "Finally, you can compute $P_{AD}(w’|w)$ as follows:\n",
        "\n",
        "$$P_{AD}(w’|w)=\\frac{\\max \\big (c(ww’)-D,0\\big )}{c(w)}+\\bigg (\\frac{D}{c(w)}\\cdot S(w) \\cdot P_L(w’)\\bigg )$$\n",
        "\n",
        "where $c(w)$ is the frequency of $w$ in the training data and $P_L(w’)$ is the Laplace-smoothed unigram probability of $w’$."
      ]
    },
    {
      "cell_type": "code",
      "metadata": {
        "id": "l1klb00wtVtS"
      },
      "source": [
        "class SmoothedBigramModelAD(LanguageModel):\n",
        "    def getProb(self, word1, word2, wordCountTemp, D, numWords, endingCount):\n",
        "        cw = sum(wordCountTemp[word1].values())\n",
        "        sw = len(wordCountTemp[word1].keys())\n",
        "        if word2 != '</s>':\n",
        "            plw = (sum(wordCountTemp[word2].values())+1)/(numWords+len(wordCountTemp.keys()))\n",
        "        else:\n",
        "            plw = (endingCount+1)/(numWords+len(wordCountTemp.keys()))\n",
        "        if word2 in wordCountTemp[word1].keys():\n",
        "            cww = wordCountTemp[word1][word2]\n",
        "        else:\n",
        "            cww = 0\n",
        "        prob = (max(cww-D,0)/(cw)) + (D*sw*plw/cw)\n",
        "        return prob\n",
        "\n",
        "    def __init__(self, trainCorpus):\n",
        "\n",
        "        self.wordCountTemp = dict()\n",
        "        self.numWords = 0\n",
        "        self.numSentences = len(trainCorpus)\n",
        "        for sentence in trainCorpus:\n",
        "            for i in range(len(sentence)-1):\n",
        "                self.numWords += 1\n",
        "                firstWord = sentence[i]\n",
        "                secondWord = sentence[i+1]\n",
        "                if firstWord in self.wordCountTemp:\n",
        "                    if secondWord in self.wordCountTemp[firstWord]:\n",
        "                        self.wordCountTemp[firstWord][secondWord] = self.wordCountTemp[firstWord][secondWord] + 1\n",
        "                    else:\n",
        "                        self.wordCountTemp[firstWord][secondWord] = dict()\n",
        "                        self.wordCountTemp[firstWord][secondWord] = 1\n",
        "                else:\n",
        "                    self.wordCountTemp[firstWord] = dict()\n",
        "                    self.wordCountTemp[firstWord][secondWord] = 1\n",
        "\n",
        "        n1 = 0\n",
        "        n2 = 0\n",
        "        for word1 in self.wordCountTemp.keys():\n",
        "            for word2 in self.wordCountTemp[word1].keys():\n",
        "                occ = self.wordCountTemp[word1][word2]\n",
        "                if occ == 1:\n",
        "                    n1 += 1\n",
        "                elif occ == 2:\n",
        "                    n2 += 1\n",
        "        self.D = (n1)/(n1+2*n2)\n",
        "        self.wordCount = dict()\n",
        "        for word1 in self.wordCountTemp.keys():\n",
        "            self.wordCount[word1] = dict()\n",
        "            for word2 in self.wordCountTemp[word1].keys():\n",
        "                self.wordCount[word1][word2] = self.getProb(word1,word2,self.wordCountTemp,self.D,self.numWords,self.numSentences)\n",
        "\n",
        "    def generateSentence(self):\n",
        "\n",
        "        sentence = list()\n",
        "        sentence.append('<s>')\n",
        "        track = self.wordCount.copy()\n",
        "        lastWord = sentence[0]\n",
        "        while True:\n",
        "            nextWord = random.choices(list(track[lastWord].keys()), list(track[lastWord].values()))[0]\n",
        "            sentence.append(nextWord)\n",
        "            if nextWord == '</s>':\n",
        "                break\n",
        "            lastWord = nextWord\n",
        "        return sentence\n",
        "\n",
        "    def getSentenceLogProbability(self, sentence):\n",
        "\n",
        "        currProb = 0.0\n",
        "        track = self.wordCount.copy()\n",
        "        for i in range(len(sentence)-1):\n",
        "            word1 = sentence[i]\n",
        "            word2 = sentence[i+1]\n",
        "            if word2 in track[word1]:\n",
        "                freq = track[word1][word2]\n",
        "            else:\n",
        "                freq = self.getProb(word1,word2,self.wordCountTemp,self.D,self.numWords,self.numSentences)\n",
        "            currProb += math.log(freq)\n",
        "        return currProb\n",
        "\n",
        "    def getCorpusPerplexity(self, testCorpus):\n",
        "\n",
        "        N = 0\n",
        "        probSum = 0.0\n",
        "        for sentence in testCorpus:\n",
        "            logProb = self.getSentenceLogProbability(sentence)\n",
        "            probSum += logProb\n",
        "            N += len(sentence)-1\n",
        "        temp = math.exp(probSum*(1/N))\n",
        "        if temp == 0:\n",
        "            return float('inf')\n",
        "        return 1/(math.exp(probSum*(1/N)))"
      ],
      "execution_count": null,
      "outputs": []
    },
    {
      "cell_type": "code",
      "metadata": {
        "id": "-BLplBkmtfWG",
        "colab": {
          "base_uri": "https://localhost:8080/"
        },
        "outputId": "a54a071b-80d6-4b82-c9fb-22ecd2225e49"
      },
      "source": [
        "if __name__=='__main__':\n",
        "    sanityCheck('smoothed-bigram')"
      ],
      "execution_count": null,
      "outputs": [
        {
          "output_type": "stream",
          "name": "stdout",
          "text": [
            "--- TEST: generateSentence() ---\n",
            "Test generateSentence() passed!\n",
            "\n",
            "--- TEST: getSentenceLogProbability(...) ---\n",
            "Correct log prob.: -16.355820202 \tYour log prob.: -16.355820202 \t PASSED \t ['<s>', 'Sonic', 'was', 'difficult', '.', '</s>']\n",
            "Correct log prob.: -76.0026113319 \tYour log prob.: -76.0026113319 \t PASSED \t ['<s>', 'By', 'the', 'Late', 'Classic', ',', 'a', 'network', 'of', 'few', '<UNK>', '(', 'few', '<UNK>', ')', 'linked', 'various', 'parts', 'of', 'the', 'city', ',', 'running', 'for', 'several', 'kilometres', 'through', 'its', 'urban', 'core', '.', '</s>']\n",
            "Correct log prob.: -74.2346475108 \tYour log prob.: -74.2346475108 \t PASSED \t ['<s>', 'Few', 'people', 'realize', 'how', 'difficult', 'it', 'was', 'to', 'create', 'Sonic', \"'s\", 'graphics', 'engine', ',', 'which', 'allowed', 'for', 'the', 'incredible', 'rate', 'of', 'speed', 'the', 'game', \"'s\", 'known', 'for', '.', '</s>']\n",
            "Correct log prob.: -47.2885760372 \tYour log prob.: -47.2885760372 \t PASSED \t ['<s>', 'Classic', 'few', 'parts', 'of', 'the', 'game', 'allowed', 'for', 'few', '<UNK>', '<UNK>', 'incredible', 'city', '.', '</s>']\n",
            "Correct log prob.: -51.2730261907 \tYour log prob.: -51.2730261907 \t PASSED \t ['<s>', 'Few', '<UNK>', 'realize', 'the', 'difficult', 'network', ',', 'which', 'linked', 'the', 'game', 'to', 'Sonic', '.', '</s>']\n",
            "Test getSentenceProbability(...) passed!\n",
            "\n",
            "--- TEST: getCorpusPerplexity(...) ---\n",
            "Correct train perp.: 12.2307627397 \tYour train perp.: 12.2307627397 \t PASSED\n",
            "Correct test perp.: 26.7193157699 \tYour test perp.: 26.7193157699 \t PASSED\n",
            "Test getCorpusPerplexity(...) passed!\n"
          ]
        }
      ]
    },
    {
      "cell_type": "markdown",
      "source": [
        "Since the next sanity check trains your model on the *entire* training set, you will likely see that it is taking too long if you have inefficiences in your code. This cell is expected to run in fewer than <b>10 seconds</b>, so if it takes significantly longer than that, you should probably inspect your code for efficiency issues."
      ],
      "metadata": {
        "id": "1dgNaW3HUGuU"
      }
    },
    {
      "cell_type": "code",
      "source": [
        "if __name__=='__main__':\n",
        "    sanityCheckFullDataset('smoothed-bigram')"
      ],
      "metadata": {
        "id": "85sJoiXsS4Zv",
        "colab": {
          "base_uri": "https://localhost:8080/"
        },
        "outputId": "4607912d-5498-4a54-a11a-ee8eb3775a57"
      },
      "execution_count": null,
      "outputs": [
        {
          "output_type": "stream",
          "name": "stdout",
          "text": [
            "\n",
            "--- TEST: getSentenceLogProbability(...) ---\n",
            "Correct log prob.: -61.3754065648 \tYour log prob.: -61.3754065648 \t PASSED \t ['<s>', 'He', 'was', '<UNK>', 'at', '<UNK>', 'College', ',', 'Hobart', ',', 'and', '<UNK>', 'in', '1932', '.', '</s>']\n",
            "Correct log prob.: -141.9754903887 \tYour log prob.: -141.9754903887 \t PASSED \t ['<s>', 'Despite', 'being', 'a', 'rare', 'Grade', '9', 'player', 'on', 'the', 'senior', 'team', ',', 'he', 'was', 'one', 'of', 'the', 'Knights', \"'\", 'two', 'leading', 'rushers', 'that', 'year', '.', '</s>']\n",
            "Correct log prob.: -107.0849366076 \tYour log prob.: -107.0849366076 \t PASSED \t ['<s>', 'Burke', \"'s\", 'total', 'was', 'a', 'school', 'record', 'for', 'the', 'Big', 'Ten', 'Conference', 'Men', \"'s\", 'Basketball', 'Tournament', '.', '</s>']\n",
            "Correct log prob.: -168.4944718788 \tYour log prob.: -168.4944718788 \t PASSED \t ['<s>', 'The', 'route', 'turns', 'to', 'the', 'northeast', ',', 'passing', 'near', 'the', '<UNK>', 'Leaf', 'Lakes', 'residential', 'development', ',', 'before', 'coming', 'to', 'an', 'interchange', 'with', 'US', '322', '(', 'Black', 'Horse', 'Pike', ')', '.', '</s>']\n",
            "Correct log prob.: -619.9409055374 \tYour log prob.: -619.9409055374 \t PASSED \t ['<s>', 'Two', 'points', 'are', 'contested', ':', 'first', ',', 'whether', 'or', 'not', 'the', 'teachings', 'of', 'Scientology', 'qualify', 'as', 'a', '\"', 'religion', 'or', '<UNK>', '\"', '(', 'Religion', 'or', '<UNK>', ';', 'these', 'are', 'equal', 'before', 'German', 'law', ')', ',', 'and', '<UNK>', ',', 'whether', 'or', 'not', 'these', 'teachings', 'are', 'only', 'used', 'as', 'a', 'pretext', 'for', 'purely', 'commercial', 'activity', ';', 'if', 'the', 'latter', 'were', 'the', 'case', ',', 'this', 'would', 'most', 'likely', 'imply', 'that', 'Scientology', 'would', 'not', 'qualify', 'for', 'protection', 'as', 'a', '\"', 'religious', 'or', '<UNK>', 'community', '\"', '(', '<UNK>', 'oder', '<UNK>', ')', 'under', 'Article', '4', 'of', 'the', 'German', 'constitution', ',', 'which', 'guarantees', 'the', 'freedom', 'of', 'belief', ',', 'religion', 'and', '<UNK>', '.', '</s>']\n",
            "Correct log prob.: -195.8159911677 \tYour log prob.: -195.8159911677 \t PASSED \t ['<s>', 'He', 'immediately', 'ran', 'into', 'a', 'problem', ':', 'the', 'South', 'Carolina', 'troops', '(', 'militia', 'or', 'the', 'colonial', 'regiments', ')', 'were', 'not', 'on', 'the', 'Continental', 'line', ',', 'and', 'thus', 'not', 'formally', 'under', 'his', 'authority', '.', '</s>']\n",
            "Correct log prob.: -86.3762008156 \tYour log prob.: -86.3762008156 \t PASSED \t ['<s>', 'One', 'of', 'them', 'was', 'a', 'bodyguard', 'who', 'was', 'present', 'at', 'the', 'concert', 'but', 'did', 'not', 'see', 'the', 'fall', '.', '</s>']\n",
            "Correct log prob.: -32.4764801981 \tYour log prob.: -32.4764801981 \t PASSED \t ['<s>', '<UNK>', 'was', 'relieved', 'on', '17', 'May', '.', '</s>']\n",
            "Correct log prob.: -48.124714509 \tYour log prob.: -48.124714509 \t PASSED \t ['<s>', 'US', 'Off', 'The', 'Planet', '!', '</s>']\n",
            "Correct log prob.: -124.687107856 \tYour log prob.: -124.687107856 \t PASSED \t ['<s>', 'The', 'difficulty', 'stems', 'from', 'the', 'relative', 'over', '@-@', 'stabilization', 'of', 'the', '<UNK>', 'cation', 'by', 'electron', 'donation', ',', '<UNK>', '<UNK>', '.', '</s>']\n",
            "Test getSentenceProbability(...) passed!\n",
            "\n",
            "--- TEST: getCorpusPerplexity(...) ---\n",
            "Correct test perp.: 261.4247123506 \tYour test perp.: 261.4247123506 \t PASSED\n",
            "Test getCorpusPerplexity(...) passed!\n"
          ]
        }
      ]
    },
    {
      "cell_type": "code",
      "metadata": {
        "id": "GibKGwdXtiUQ",
        "colab": {
          "base_uri": "https://localhost:8080/"
        },
        "outputId": "881996b5-9eb7-4aa5-d6ae-b3d2cac4f07d"
      },
      "source": [
        "if __name__=='__main__':\n",
        "    runModel('smoothed-bigram')"
      ],
      "execution_count": null,
      "outputs": [
        {
          "output_type": "stream",
          "name": "stdout",
          "text": [
            "--------- 5 sentences from your model ---------\n",
            "Log Probability: -226.67018582173932 \tSentence: ['<s>', 'On', '5', 'million', 'five', 'satellite', ',', 'forcing', 'advertisers', 'to', 'have', 'an', 'RAF', 'on', 'a', 'complex', ',', 'in', 'the', 'decency', 'due', 'to', 'the', 'film', ',', 'a', 'goal', 'to', '<UNK>', 'in', 'an', 'asteroid', ',', 'displacement', 'of', 'the', 'fox', '<UNK>', 'have', 'the', 'family', 'and', 'Karaoke', 'Revolution', 'placed', 'in', 'a', '<UNK>', 'Central', 'Park', '.', '</s>']\n",
            "Log Probability: -49.55214836848939 \tSentence: ['<s>', 'Mitchell', ',', 'in', 'Australia', 'as', 'the', 'song', 'to', 'gain', 'control', '.', '</s>']\n",
            "Log Probability: -154.8467919688782 \tSentence: ['<s>', 'Most', 'of', 'where', 'as', 'it', 'proper', 'construction', 'project', 'profound', 'feeling', 'on', '15', ':', 'A', 'new', 'restaurant', '\"', 'Cambodia', 'and', 'comedy', 'and', '<UNK>', 'study', 'in', 'the', 'DAG', 'in', 'four', 'children', '.', '</s>']\n",
            "Log Probability: -47.85705473599443 \tSentence: ['<s>', 'They', 'also', 'discussed', 'the', 'local', '<UNK>', 'in', 'the', 'village', 'of', 'Nicaragua', '.', '</s>']\n",
            "Log Probability: -72.09283954273597 \tSentence: ['<s>', '\"', ',', 'and', 'converted', 'a', 'point', 'wheelchair', 'basketball', 'team', 'at', '09', ':', \"'\", 'paid', 'parent', '.', '</s>']\n",
            "\n",
            "--------- Corpus Perplexities ---------\n",
            "Training Set: 98.55812920532598\n",
            "Testing Set: 272.5720197932035\n"
          ]
        }
      ]
    },
    {
      "cell_type": "markdown",
      "metadata": {
        "id": "DtMMWXC0Emwq"
      },
      "source": [
        "## Food for Thought\n",
        "We provide you some questions to think about. <b>You do not need to answer these questions, but we encourage you to give them some thought.</b>\n",
        "<ol>\n",
        "<li>When generating sentences with the unigram model, what controls the length of the generated sentences? How does this differ from the sentences produced by the bigram models?\n",
        "<li>Consider the probability of the generated sentences according to your models. Do your models assign drastically different probabilities to the different sets of sentences? Why do you think that is?\n",
        "<li>Look back at the sentences generated using your models. In your opinion, which model produces better / more realistic sentences?\n",
        "<li>For each of the four models, which test corpus has the highest perplexity? Why?\n",
        "<li> Why do you think it might be a bad idea to use Laplace (add-one) smoothing for a bigram model? How does the absolute discounting method help?\n",
        "</ol>"
      ]
    },
    {
      "cell_type": "markdown",
      "metadata": {
        "id": "3geZQCtgQC_j"
      },
      "source": [
        "# Part 2: Finite State Transducers [40 points]\n",
        "\n",
        "Here, you will implement a <b>finite state transducer</b> (FST), which transduces the infinitive form of Spanish verbs to the preterite (past tense) form in the 3rd person singular. You will be graded according to how well your transducer performs on a hidden test dataset.\n",
        "\n",
        "Run the cell below to pull the data you can use to develop your FST."
      ]
    },
    {
      "cell_type": "markdown",
      "metadata": {
        "id": "cVc5_Z6tQtvP"
      },
      "source": [
        "## Provided Code\n",
        "We provide you with a class <TT>FST</TT>, which is a module for constructing and evaluating FST's. You shouldn't modify any of this code. Here is a description of the most useful methods of this module:\n",
        "\n",
        "\n",
        "* <b>`FST(self, initialStateName)`</b>: Instantiate an FST with an initial (non-accepting) state named `initialStateName`\n",
        "\n",
        "* <b>`addState(self, name, isFinal=False)`</b>: Add a state `name` to the FST; by default, `isFinal=False` and so the state is not an accepting state.\n",
        "\n",
        "* <b>`addTransition(self, inStateName, inString, outString, outStateName)`</b>: Add a transition between state `inStateName` and state `outStateName`, where both of these states already exist in the FST. The FST can traverse this transition after reading `inString`, and outputs `outString` when it does so.\n",
        "\n",
        "* <b>`addSetTransition(self, inStateName, inStringSet, outStateName)`</b>: Add a transition between state `inStateName` and state `outStateName` for each character in `inStringSet`. For each transition, the FST outputs the same character it reads.\n",
        "\n",
        "The cell also contains a method to read the data and a scoring function that you will call in the \"Test your FST\" section.\n",
        "\n",
        "<b>Do not edit any of the code in this cell!</b>\n"
      ]
    },
    {
      "cell_type": "code",
      "metadata": {
        "id": "9FTm5T-zQE9t"
      },
      "source": [
        "### DO NOT EDIT ###\n",
        "\n",
        "import os\n",
        "import pandas as pd\n",
        "from tabulate import tabulate\n",
        "pdtabulate=lambda df:tabulate(df,headers='keys',tablefmt='psql', showindex=False)\n",
        "\n",
        "def readVerbFile(file):\n",
        "    url='https://drive.google.com/u/0/uc?id=1U6vrmAKep0hDscPrCZ7yJKjFQmPQsfG2&export=download'\n",
        "    df = pd.read_csv(url, header=None)\n",
        "\n",
        "    return df.values.tolist()\n",
        "\n",
        "verbs = readVerbFile('verbsList.csv')\n",
        "\n",
        "def testFST(print_examples = 'all'):\n",
        "    assert print_examples in {'all', 'incorrect', 'none'}, \"print_examples must be 'all', 'incorrect', or 'none'\"\n",
        "    rule_classes = [('0a*', \"0a* Regular -Car verb (stem end in consonant)\", 'hablar      ==>  habló'), ('0b*', \"0b* Regular -Var verb (stem end in vowel)\", 'pasear      ==>  paseó'), ('0c*', \"0c* Regular -er verb\", 'comer       ==>  comió'), ('0d*', \"0d* Regular -ir verb (excluding -guir, -quir)\", 'abrir       ==>  abrió'), ('1a', \"1a  Verbs in -ñer\", 'tañer       ==>  tañó'), ('1b', \"1b  Verbs in -ñir (excluding -eñir)\", 'gañir       ==>  gañó'), ('2a', \"2a  Verbs in -Ver\", 'leer        ==>  leyó'), ('2b', \"2b  Verbs in -Vir\", 'construir   ==>  construyó'), ('2c*', \"2c* Verbs in -guir (excluding -eguir)\", 'distinguir  ==>  distinguió'), ('2d*', \"2d* Verbs in -quir\", 'delinquir   ==>  delinquió'), ('3a', \"3a  Verbs in -eCir\", 'pedir       ==>  pidió'), ('3b', \"3b  Verbs in -eCCir\", 'sentir      ==>  sintió'), ('3c', \"3c  Verbs in -eCCCir\", 'henchir     ==>  hinchió'), ('3d', \"3d  Verbs in -eguir\", 'seguir      ==>  siguió'), ('3e', \"3e  Verbs in -eñir\", 'heñir       ==>  hiñó')]\n",
        "\n",
        "    f = buildFST()\n",
        "    myParses = f.parseInputList([x[0] for x in verbs])\n",
        "    scores, totals, examples = {}, {}, []\n",
        "\n",
        "    for i in range(len(verbs)):\n",
        "        lemma, form, clas = verbs[i]\n",
        "        output = myParses[i]\n",
        "        scores[clas] = scores.get(clas, 0)\n",
        "        totals[clas] = totals.get(clas, 0) + 1\n",
        "        if print_examples == 'all' or print_examples == 'incorrect' and form != output:\n",
        "            examples += [(lemma, form, output, 'CORRECT' if form == output else 'INCORRECT')]\n",
        "        if form == output: scores[clas] += 1\n",
        "\n",
        "    if print_examples != 'none' and len(examples) > 0:\n",
        "        examples = pd.DataFrame.from_records(examples, columns = ['Input', 'Correct Output', 'Returned Output', 'Result'])\n",
        "        print(pdtabulate(examples))\n",
        "\n",
        "    data= []\n",
        "\n",
        "    # We use a scoring method that accounts for (1) the fact that the default FST gets many verbs correct\n",
        "    #                                           (2) the class inbalance among the different rules\n",
        "    # p_scores is for verbs that the default FST gets correct, q_scores for verbs it gets wrong\n",
        "    # Each contains a list of accuracies for each category group (for example, all of the examples where rule 2 applies are in one group)\n",
        "    p_scores, q_scores = {'0*': [], '2*': []}, {'1': [], '2': [], '3': []}\n",
        "    for clas, msg, ex in rule_classes:\n",
        "        acc = scores[clas]/totals[clas]\n",
        "        data += [(msg, ex, scores[clas], totals[clas], 100*acc)]\n",
        "        if '0' in clas: p_scores['0*'].append(acc)\n",
        "        elif '1' in clas: q_scores['1'].append(acc)\n",
        "        elif '2' in clas and '*' not in clas: q_scores['2'].append(acc)\n",
        "        elif '2' in clas and '*' in clas: p_scores['2*'].append(acc)\n",
        "        elif '3' in clas:\n",
        "            if clas in {'3a', '3b', '3c'}: q_scores['3'] += [acc, acc, acc] # Weight these higher than -eguir and -eñir\n",
        "            else: q_scores['3'].append(acc)\n",
        "        else: assert False, 'should not get here ' + clas\n",
        "\n",
        "    p_scores = [sum(v) / len(v) for k, v in p_scores.items()] # Get the average for each category group\n",
        "    q_scores = [sum(v) / len(v) for k, v in q_scores.items()]\n",
        "\n",
        "    p_scores = [p_scores[0]] * 3 + [p_scores[1]] # Weight 0* higher than 2*\n",
        "\n",
        "    # Score by averaging the p and q scores, then applying grading formula\n",
        "    p, q = sum(p_scores) / len(p_scores), sum(q_scores) / len(q_scores)\n",
        "    final_score = q/2 * (1+p) # Score will be 0 when p is 100% and q is 0%; score will be 100% when p and q are both 100%\n",
        "\n",
        "    print('\\nScorecard:')\n",
        "    data = pd.DataFrame.from_records(data, columns = ['Category', 'Example', 'Correct', 'Total', 'Accuracy (%)'])\n",
        "    print(pdtabulate(data))\n",
        "\n",
        "    print(\"Overall Score:\", str(final_score*100) + '%')\n",
        "\n",
        "class Transition:\n",
        "    # string_in\n",
        "    # string_out\n",
        "    def __init__(self, inState, inString, outString, outState):\n",
        "        self.state_in = inState\n",
        "        self.string_in = inString\n",
        "        self.string_out = outString\n",
        "        self.state_out = outState\n",
        "\n",
        "    def equals(self, t):\n",
        "        if self.state_in == t.state_in \\\n",
        "        and self.string_in == t.string_in \\\n",
        "        and self.string_out == t.string_out \\\n",
        "        and self.state_out == t.state_out:\n",
        "            return True\n",
        "        else:\n",
        "            return False\n",
        "\n",
        "class FSTstate:\n",
        "    # id: an integer ID of the state\n",
        "    # isFinal: is this a final state?\n",
        "    def __init__(self, n, isF, fst):\n",
        "        self.id = n\n",
        "        self.isFinal = isF\n",
        "        self.transitions = dict() # map inStrings to a set of all possible transitions\n",
        "        self.FST = fst\n",
        "\n",
        "    def addTransition(self, inString, outString, outState):\n",
        "        newTransition = Transition(self, inString, outString, outState)\n",
        "        if inString in self.transitions:\n",
        "            for t in self.transitions[inString]:\n",
        "                if t.equals(newTransition):\n",
        "                    return\n",
        "            self.transitions[inString].add(newTransition)\n",
        "        else:\n",
        "            self.transitions[inString] = set([])\n",
        "            self.transitions[inString].add(newTransition)\n",
        "\n",
        "    def parseInputFromStartState(self, inString):\n",
        "        parseTuple = (\"\", self.id)\n",
        "        parses = []\n",
        "        (accept, stringParses) = self.parseInput(inString)\n",
        "        if accept:\n",
        "            for p in stringParses:\n",
        "                completeParse = [parseTuple]\n",
        "                completeParse.extend(p)\n",
        "                parses.append(completeParse)\n",
        "        return (accept, parses)\n",
        "\n",
        "    def parseInput(self, inString):\n",
        "        parses = []\n",
        "        isAccepted = True\n",
        "\n",
        "        DEBUG = False\n",
        "        if DEBUG:\n",
        "            print(\"parseInput: state: \", self.id, \" parsing: \" , inString)\n",
        "\n",
        "        # Case 1: no suffix\n",
        "        if inString == \"\":\n",
        "            epsilonParses = []\n",
        "            epsilonAccepted = False\n",
        "            # try all epsilon transitions\n",
        "            if \"\" in self.transitions:\n",
        "                transSet = self.transitions[\"\"]\n",
        "                for t in transSet:\n",
        "                    outString = t.string_out\n",
        "                    toStateID = t.state_out\n",
        "                    toState = self.FST.allStates[toStateID]\n",
        "                    parseTuple = (outString, toStateID)\n",
        "                    (suffixAccepted, suffixParses) = toState.parseInput(inString)\n",
        "                    if suffixAccepted:\n",
        "                        epsilonAccepted = True\n",
        "                        if suffixParses == []: #accepts.\n",
        "                            parse_s = [parseTuple]\n",
        "                            epsilonParses.append(parse_s)\n",
        "                        else:\n",
        "                            for s in suffixParses:\n",
        "                                parse_s = [parseTuple]\n",
        "                                parse_s.extend(s)\n",
        "                                epsilonParses.append(parse_s)\n",
        "            # if epsilon is accepted, add all its parses\n",
        "            if epsilonAccepted:\n",
        "                parses.extend(epsilonParses)\n",
        "            # if this is a final state, add an empty parse\n",
        "            if self.isFinal or parses != []:\n",
        "                if DEBUG:\n",
        "                    print(\"Accepted in state \", self.id)\n",
        "                return (True, parses)\n",
        "            else:\n",
        "                if DEBUG:\n",
        "                    print(\"Rejected in state \", self.id)\n",
        "                return (False, None)\n",
        "        # case 2: non-empty suffix: there needs to be one suffix that parses!)\n",
        "        hasAcceptedSuffix = False;\n",
        "        for i in range(0,len(inString)+1):\n",
        "            prefix = inString[0:i]\n",
        "            suffix = inString[i:len(inString)]\n",
        "            if DEBUG:\n",
        "                print(\"\\t prefix: \\'\", prefix, \"\\' I=\", i)\n",
        "            if prefix in self.transitions:\n",
        "                if DEBUG:\n",
        "                     print(\"\\t prefix: \", prefix,  \"suffix: \", suffix, \"I=\", i)\n",
        "                transSet = self.transitions[prefix]\n",
        "                for t in transSet:\n",
        "                    outString = t.string_out\n",
        "                    toStateID = t.state_out\n",
        "                    toState = self.FST.allStates[toStateID]\n",
        "                    parseTuple = (outString, toStateID)\n",
        "                    (suffixAccepted, suffixParses) = toState.parseInput(suffix)\n",
        "                    if suffixAccepted:\n",
        "                        hasAcceptedSuffix = True\n",
        "                        if suffixParses == []:\n",
        "                            parse_s = [parseTuple]\n",
        "                            parses.append(parse_s)\n",
        "                            thisPrefixParses = True\n",
        "                        for s in suffixParses:\n",
        "                            parse_s = [parseTuple]\n",
        "                            parse_s.extend(s)\n",
        "                            parses.append(parse_s)\n",
        "        if hasAcceptedSuffix:\n",
        "            return (True, parses)\n",
        "        else:\n",
        "            return (False, None)\n",
        "\n",
        "\n",
        "\n",
        "    def printState(self):\n",
        "        if self.isFinal:\n",
        "            FINAL = \"FINAL\"\n",
        "        else: FINAL = \"\"\n",
        "        print(\"State\", self.id, FINAL)\n",
        "        for inString in self.transitions:\n",
        "            transList = self.transitions[inString]\n",
        "            for t in transList:\n",
        "                print(\"\\t\", inString, \":\", t.string_out, \" => \", t.state_out)\n",
        "\n",
        "\n",
        "\n",
        "\n",
        "class FST:\n",
        "    def __init__(self, initialStateName=\"q0\"):\n",
        "        self.nStates = 0\n",
        "        self.initState = FSTstate(initialStateName, False, self)\n",
        "        self.allStates = dict()\n",
        "        self.allStates[initialStateName] = self.initState\n",
        "\n",
        "    def addState(self, name, isFinal=False):\n",
        "        if name in self.allStates:\n",
        "            print(\"ERROR addState: state\", name, \"exists already\")\n",
        "            sys.exit()\n",
        "        elif len(self.allStates) >= 30:\n",
        "            print(\"ERROR addState: you can't have more than 30 states\")\n",
        "            sys.exit()\n",
        "        else:\n",
        "            newState = FSTstate(name, isFinal, self)\n",
        "            self.allStates[name] = newState\n",
        "\n",
        "    def addTransition(self, inStateName, inString, outString, outStateName):\n",
        "        if (len(inString) > 1):\n",
        "            print(\"ERROR: addTransition: input string \", inString, \" is longer than one character\")\n",
        "            sys.exit()\n",
        "        if inStateName not in self.allStates:\n",
        "            print(\"ERROR: addTransition: state \", inStateName, \" does not exist\")\n",
        "            sys.exit()\n",
        "        if outStateName not in self.allStates:\n",
        "            print(\"ERROR: addTransition: state \", outStateName, \" does not exist\")\n",
        "            sys.exit()\n",
        "        inState = self.allStates[inStateName]\n",
        "        inState.addTransition(inString, outString, outStateName)\n",
        "\n",
        "    # epsilon:epsilon\n",
        "    def addEpsilonTransition(self, inStateName, outStateName):\n",
        "        if inStateName not in self.allStates:\n",
        "            print(\"ERROR: addEpsilonTransition: state \", inStateName, \" does not exist\")\n",
        "            sys.exit()\n",
        "        if outStateName not in self.allStates:\n",
        "            print(\"ERROR: addEpsilonTransition: state \", outStateName, \" does not exist\")\n",
        "            sys.exit()\n",
        "        if inStateName == outStateName:\n",
        "            print(\"ERROR: we don't allow epsilon loops\")\n",
        "            sys.exit()\n",
        "        inState = self.allStates[inStateName]\n",
        "        inState.addTransition(\"\", \"\", outStateName)\n",
        "\n",
        "    # map every element in inStringSet to itself\n",
        "    def addSetTransition(self, inStateName, inStringSet, outStateName):\n",
        "         if inStateName not in self.allStates:\n",
        "            print(\"ERROR: addSetTransition: state \", inStateName, \" does not exist\")\n",
        "            sys.exit()\n",
        "         if outStateName not in self.allStates:\n",
        "            print(\"ERROR: addSetTransition: state \", outStateName, \" does not exist\")\n",
        "            sys.exit()\n",
        "         for s in inStringSet:\n",
        "            self.addTransition(inStateName, s, s, outStateName)\n",
        "\n",
        "    # map string to itself\n",
        "    def addSelfTransition(self, inStateName, inString, outStateName):\n",
        "         if inStateName not in self.allStates:\n",
        "            print(\"ERROR: addSetTransition: state \", inStateName, \" does not exist\")\n",
        "            sys.exit()\n",
        "         if outStateName not in self.allStates:\n",
        "            print(\"ERROR: addSetTransition: state \", outStateName, \" does not exist\")\n",
        "            sys.exit()\n",
        "         self.addTransition(inStateName, inString, inString, outStateName)\n",
        "\n",
        "    # map every element in inStringSet to outString\n",
        "    def addSetToStringTransition(self, inStateName, inStringSet, outString, outStateName):\n",
        "         if inStateName not in self.allStates:\n",
        "            print(\"ERROR: addSetDummyTransition: state \", inStateName, \" does not exist\")\n",
        "            sys.exit()\n",
        "         if outStateName not in self.allStates:\n",
        "            print(\"ERROR: addSetDummyTransition: state \", outStateName, \" does not exist\")\n",
        "            sys.exit()\n",
        "         for s in inStringSet:\n",
        "            self.addTransition(inStateName, s, outString, outStateName)\n",
        "\n",
        "\n",
        "    # map every element in inStirngSet to outString\n",
        "    def addSetEpsilonTransition(self, inStateName, inStringSet, outStateName):\n",
        "         if inStateName not in self.allStates:\n",
        "            print(\"ERROR: addSetEpsilonTransition: state \", inStateName, \" does not exist\")\n",
        "            sys.exit()\n",
        "         if outStateName not in self.allStates:\n",
        "            print(\"ERROR: addSetEpsionTransition: state \", outStateName, \" does not exist\")\n",
        "            sys.exit()\n",
        "         for s in inStringSet:\n",
        "            self.addTransition(inStateName, s, \"\", outStateName)\n",
        "\n",
        "    def parseInput(self, inString):\n",
        "        SHOW_STATES = False#True\n",
        "        inString = inString.rstrip('\\n')\n",
        "        (canParse, allParses)  = self.initState.parseInputFromStartState(inString)\n",
        "        allParsesAsString = \"\"\n",
        "        if canParse:\n",
        "            for parse in allParses:\n",
        "                for tuple in parse:\n",
        "                    outString, outState = tuple\n",
        "                    allParsesAsString += outString\n",
        "                if SHOW_STATES:\n",
        "                    allParsesAsString += \"\\t  States: \"\n",
        "                    i = 0\n",
        "                    for tuple in parse:\n",
        "                        i += 1\n",
        "                        outString, outState = tuple\n",
        "                        allParsesAsString += outState\n",
        "                        if i < len(parse):\n",
        "                            allParsesAsString += \" => \"\n",
        "                    allParsesAsString += \"; \"\n",
        "\n",
        "            return True, allParsesAsString\n",
        "        else:\n",
        "            return False, \"FAIL\"\n",
        "\n",
        "    def printFST(self):\n",
        "        print(\"Printing FST\", str(self))\n",
        "        for stateID in self.allStates:\n",
        "            state = self.allStates[stateID]\n",
        "            state.printState()\n",
        "\n",
        "    def parseInputList(self, verbList):\n",
        "        #with open(fileName, \"r\") as f:\n",
        "        nParses = 0\n",
        "        totalStrings = 0\n",
        "        res = []\n",
        "        for verb in verbList:#f:\n",
        "            totalStrings += 1\n",
        "            canParse, parse = self.parseInput(verb)\n",
        "            res += [parse]\n",
        "            if canParse:\n",
        "                nParses += 1\n",
        "        fraction = nParses/totalStrings\n",
        "        print(nParses, \"/\", totalStrings, \"=\", str(fraction*100)+'%', \"of examples parsed\")\n",
        "        return res"
      ],
      "execution_count": null,
      "outputs": []
    },
    {
      "cell_type": "markdown",
      "metadata": {
        "id": "hGsH7x2aTySm"
      },
      "source": [
        "## Spanish Past Tense Transduction\n",
        "Here we provide you with a specification for producing the 3rd person singular of the Spanish preterite tense from the verb infinitive.<br>You may assume that all Spanish infinitives consist of a <em>stem</em> and <em>ending</em>, which is always <TT>-ar</TT>, <TT>-er</TT>, or <TT>-ir</TT>.<br>For example, the stem of the verb <TT>hablar</TT> is <TT>habl-</TT> and the ending is <TT>-ar</TT>.\n",
        "\n",
        "If the verb ends in <TT>-ar</TT>, then the preterite form consists of stem + <TT>ó</TT>. If the verb ends in <TT>-er</TT> or <TT>-ir</TT>, then the preterite form consists of stem + <TT>ió</TT>:\n",
        "\n",
        "<ul>\n",
        "<TT>hablar ==> habló&nbsp;&nbsp;&nbsp;&nbsp;&nbsp;&nbsp;comer ==> comió&nbsp;&nbsp;&nbsp;&nbsp;&nbsp;&nbsp;escribir ==> escribió</TT>\n",
        "</ul>\n",
        "\n",
        "But there are a number of exceptions. In particular, you will need to implement the following rules.<br><b>Important:</b> These rules apply <em>only</em> to verbs ending in <TT>-er</TT> or <TT>-ir</TT>.\n",
        "<ol>\n",
        "<li><b>Stems ending in <TT>ñ</TT>:</b> If the stem ends in <TT>ñ</TT>, the ending is <TT>-ó</TT> rather than <TT>-ió</TT>:\n",
        "<ul>\n",
        "<TT>tañer ==> tañó&nbsp;&nbsp;&nbsp;&nbsp;&nbsp;&nbsp;gruñir ==> gruñó</TT>\n",
        "</ul>\n",
        "<em>Note:</em> This rule does <em>not</em> affect stems ending in regular <TT>n</TT>; it only affects stems in <T>ñ</TT> (<em>n</em> with a tilde).<br>\n",
        "<li><b>Stems ending in a vowel:</b> If the stem ends in a vowel, the ending is <TT>-yó</TT> rather than <TT>-ió</TT>:\n",
        "<ul>\n",
        "<TT>leer ==> leyó&nbsp;&nbsp;&nbsp;&nbsp;&nbsp;&nbsp;construir ==> construyó&nbsp;&nbsp;&nbsp;&nbsp;&nbsp;&nbsp;corroer ==> corroyó</TT>\n",
        "</ul>\n",
        "<b>However</b>, this does <b>not</b> apply to verbs ending in <TT>-guir</TT> or <TT>-quir</TT> (which are regular).\n",
        "<ul>\n",
        "<TT>distinguir ==> distinguió&nbsp;&nbsp;&nbsp;&nbsp;&nbsp;&nbsp;delinquir ==> delinquió</TT>\n",
        "</ul>\n",
        "<li> <b>Vowel raising:</b> For <TT>-ir</TT> verbs only, if the stem ends in an <TT>e</TT> followed by any number of consonants, then the <TT>e</TT> changes to an <TT>i</TT>:\n",
        "<ul>\n",
        "<TT>pedir ==> pidió&nbsp;&nbsp;&nbsp;&nbsp;&nbsp;&nbsp;sentir ==> sintió&nbsp;&nbsp;&nbsp;&nbsp;&nbsp;&nbsp;presentir ==> presintió</TT>\n",
        "</ul>\n",
        "This <b>also</b> applies to verbs ending in <TT>-eguir</TT>:\n",
        "<ul>\n",
        "<TT>seguir ==> siguió&nbsp;&nbsp;&nbsp;&nbsp;&nbsp;&nbsp;conseguir ==> consiguió</TT>\n",
        "</ul>\n",
        "</ol>\n",
        "\n",
        "Note that Rules 1 and 3 may both apply to some verbs: <TT>heñir ==> hiñó</TT>."
      ]
    },
    {
      "cell_type": "markdown",
      "metadata": {
        "id": "FRMsqYzVTBTK"
      },
      "source": [
        "## <font color='red'>TODO:</font> Build Your FST [40 points]\n",
        "\n",
        "We have provided you with a rudimentary implementation for transducing verbs to their past tense form $-$ in particular, it only works on regular verbs. Your task is to modify the function <TT>buildFST()</TT> below to produce a better FST. You are free to define your own character sets or other helper methods that you require.\n",
        "\n",
        "The FST will finish its analysis for a string after having read its last character. If it accepts the string, it will output the transduced form; if it does not accept it, the FST will output FAIL. Your FST may be non-deterministic (that is, a state may have multiple transitions for the same input character), but each accepted string should only have one analysis. If your FST accepts a string along multiple paths, all of the outputs will be returned and the translation will be marked incorrect: e.g. <TT>hablar ==> hablóhabló</TT>. It will accept a string if it reaches a final state after having read its last character.\n",
        "\n",
        "<font color='green'><b>Hints:</b></font>\n",
        "* <font color='green'>Before beginning, make sure you understand the \"Tutorial: Designing an FST\" video on Coursera. As in that video, you will probably find a non-deterministic FST easiest for this task.</font>\n",
        "* <font color='green'>You should be able to complete this task with 15-20 states. You are welcome to use more, but if you find yourself with significantly more states you may be on the wrong track.</font>\n",
        "* <font color='green'>As you work, keep a hand-drawn diagram of your FST on paper. You will find it easier to reason about your FST's behavior by looking at your diagram.</font>\n",
        "* <font color='green'>Implement the rules in the order they're described above, and test frequently. It will help to build your FST incrementally, rather than trying to do it all at once.</font>\n",
        "* <font color='green'>The exceptions to rules 2 & 3 (i.e. verbs ending in <TT>-guir</TT> & <TT>-quir</TT>) could be challenging. You might consider implementing these at the very end once all the rules themselves work (these exceptions are not worth as many points as the rules).</font>\n",
        "* <font color='green'>You will sometimes want to transition on all letters except for a few. For example, suppose you want to transition from `q1` to `q2` on any letter except `e`, `g`, and `q`. You can do this by using set subtraction notation in Python: `f.addSetTransition('q1', A2Z-{'e', 'g', 'q'}, 'q2')`.</font>"
      ]
    },
    {
      "cell_type": "code",
      "metadata": {
        "id": "17Q0convTkBL"
      },
      "source": [
        "# Here are some predefined character sets that might come in handy. Feel free to make your own.\n",
        "A2Z = set('abcçdefghijklmnopqrstuvwxyzáéíóúñü')\n",
        "VOWS = set('aeiouáéíóúü')\n",
        "CONS = A2Z-VOWS\n",
        "\n",
        "# TODO: Impelement your solution here.\n",
        "def buildFST():\n",
        "\n",
        "    # The states (you need to add more)\n",
        "    f = FST('q1') # q1 is the initial (non-accepting) state\n",
        "    f.addState('q_n')\n",
        "    f.addState('q_r')\n",
        "    f.addState('q_vowel')\n",
        "    f.addState('q_gq')\n",
        "    f.addState('q_e')\n",
        "    f.addState('q_eg')\n",
        "    f.addState('q_egu')\n",
        "    f.addState('q_en')\n",
        "    f.addState('q_e_only')\n",
        "    f.addState('q_after_e')\n",
        "    f.addState('q_n_after_e')\n",
        "    f.addState('q_gq_after_e')\n",
        "    f.addState('q_epsilon')\n",
        "    f.addState('q_EOW', True) # An accepting state\n",
        "\n",
        "    # The transitions (you need to add more)\n",
        "    f.addSetTransition('q1', A2Z-set('ñ')-VOWS-{'g','q'}, 'q1') # Self-loop on all letters to transition through stem\n",
        "\n",
        "    f.addTransition('q1', 'ñ', 'ñ', 'q_n')\n",
        "    f.addTransition('q_n', 'a', 'ó', 'q_r')\n",
        "    f.addTransition('q_n', 'e', 'ó', 'q_r')\n",
        "    f.addTransition('q_n', 'i', 'ó', 'q_r')\n",
        "    f.addSetTransition('q_n', {'a', 'i', 'o', 'u'}, 'q_vowel')\n",
        "    f.addTransition('q_n', 'e', 'e', 'q_e_only')\n",
        "    #f.addSetTransition('q_n', CONS,'q1')\n",
        "\n",
        "    f.addSetTransition('q1', VOWS-{'e'}, 'q_vowel')\n",
        "    f.addSetTransition('q_vowel', VOWS-{'e'}, 'q_vowel')\n",
        "    f.addTransition('q_vowel', 'e', 'e', 'q_e_only')\n",
        "    f.addSetTransition('q_vowel', CONS-{'ñ', 'g', 'q'}, 'q1')\n",
        "    f.addSetTransition('q_vowel',{'g','q'},'q_gq')\n",
        "    f.addTransition('q_vowel', 'ñ', 'ñ', 'q_n')\n",
        "    f.addSetTransition('q_n', VOWS-{'e'}, 'q_vowel')\n",
        "    f.addTransition('q_n', 'e', 'e', 'q_e_only')\n",
        "    f.addTransition('q_vowel', 'a', 'ó', 'q_r')\n",
        "    f.addTransition('q_vowel', 'e', 'yó', 'q_r')\n",
        "    f.addTransition('q_vowel', 'i', 'yó', 'q_r')\n",
        "    f.addTransition('q_vowel', 'e', 'i', 'q_e')\n",
        "\n",
        "    f.addTransition('q1', 'e', 'e', 'q_e_only')\n",
        "    f.addTransition('q_e_only', 'e', 'e', 'q_e_only')\n",
        "    f.addSetTransition('q_e_only', {'a', 'i', 'o', 'u'}, 'q_vowel')\n",
        "    f.addSetTransition('q_e_only', CONS-{'ñ', 'g', 'q'}, 'q_after_e')\n",
        "    f.addSetTransition('q_e_only',{'g','q'},'q_gq_after_e')\n",
        "    f.addTransition('q_e_only', 'ñ', 'ñ', 'q_n_after_e')\n",
        "    f.addTransition('q_n', 'e', 'e', 'q_e_only')\n",
        "    f.addTransition('q_gq', 'e', 'e', 'q_e_only')\n",
        "    f.addTransition('q_e_only', 'a', 'ó', 'q_r')\n",
        "    f.addTransition('q_e_only', 'e', 'yó', 'q_r')\n",
        "    f.addTransition('q_e_only', 'i', 'yó', 'q_r')\n",
        "    # f.addTransition('q_e_only', 'e', 'i', 'q_e')\n",
        "\n",
        "    f.addTransition('q_after_e', 'e', 'e', 'q_e_only')\n",
        "    f.addSetTransition('q_after_e', {'a','i','o','u'}, 'q_vowel')\n",
        "    f.addSetTransition('q_after_e', CONS-{'g','q','ñ'}, 'q_after_e')\n",
        "    f.addTransition('q_after_e', 'a', 'ó', 'q_r')\n",
        "    f.addTransition('q_after_e', 'e', 'ió', 'q_r')\n",
        "    #f.addTransition('q_after_e', 'i', 'ió', 'q_r')\n",
        "    f.addTransition('q_after_e', 'e', 'i', 'q_e')\n",
        "    f.addSetTransition('q_after_e', {'g', 'q'}, 'q_gq')\n",
        "    f.addTransition('q_after_e','ñ','ñ','q_n_after_e')\n",
        "\n",
        "    f.addTransition('q_gq_after_e', 'a', 'ó', 'q_r')\n",
        "    f.addTransition('q_gq_after_e', 'e', 'ió', 'q_r')\n",
        "    # f.addTransition('q_gq', 'i', 'ió', 'q_r')\n",
        "    f.addSetTransition('q_gq_after_e', {'a', 'i', 'o'}, 'q_vowel')\n",
        "    f.addTransition('q_gq_after_e', 'e', 'e', 'q_e_only')\n",
        "    f.addTransition('q_gq_after_e', 'e', 'i', 'q_e')\n",
        "    f.addSetTransition('q_gq_after_e', CONS|set('u')|set('ü'), 'q_after_e')\n",
        "\n",
        "    f.addTransition('q_n_after_e', 'a', 'ó', 'q_r')\n",
        "    f.addTransition('q_n_after_e', 'e', 'ó', 'q_r')\n",
        "    # f.addTransition('q_n', 'i', 'ó', 'q_r')\n",
        "    f.addSetTransition('q_n_after_e', {'a', 'i', 'o', 'u'}, 'q_vowel')\n",
        "    f.addTransition('q_n_after_e', 'e', 'e', 'q_e_only')\n",
        "    # f.addSetTransition('q_n_after_e', CONS,'q1')\n",
        "\n",
        "    f.addSetTransition('q1', {'g', 'q'}, 'q_gq')\n",
        "    f.addTransition('q_gq', 'a', 'ó', 'q_r')\n",
        "    f.addTransition('q_gq', 'e', 'ió', 'q_r')\n",
        "    f.addTransition('q_gq', 'i', 'ió', 'q_r')\n",
        "    f.addSetTransition('q_gq', {'a', 'i', 'o'}, 'q_vowel')\n",
        "    f.addTransition('q_gq', 'e', 'e', 'q_e_only')\n",
        "    f.addTransition('q_gq', 'e', 'i', 'q_e')\n",
        "    f.addSetTransition('q_gq', CONS|set('u')|set('ü'), 'q1')\n",
        "\n",
        "    f.addTransition('q1', 'e', 'i', 'q_e')\n",
        "    f.addSetTransition('q_e', CONS-{'ñ'}, 'q_e')\n",
        "    f.addTransition('q_e', 'i', 'ió', 'q_r')\n",
        "    f.addTransition('q_e', 'g', 'g', 'q_eg')\n",
        "    f.addTransition('q_eg', 'u', 'u', 'q_egu')\n",
        "    f.addTransition('q_egu', 'i', 'ió', 'q_r')\n",
        "    f.addTransition('q_e', 'ñ', 'ñ', 'q_en')\n",
        "    f.addTransition('q_en', 'i', 'ó', 'q_r')\n",
        "\n",
        "    f.addTransition('q1', 'a', 'ó', 'q_r') # Transition on vowel of ending, with a ==> ó and e ==> ió and i ==> ió\n",
        "    f.addTransition('q1', 'e', 'ió', 'q_r')\n",
        "    f.addTransition('q1', 'i', 'ió', 'q_r')\n",
        "\n",
        "    f.addTransition('q_r', 'r', '', 'q_epsilon') # Transition on final r in infinitive - replace with empty string\n",
        "    f.addTransition('q_epsilon', '', '', 'q_EOW') # If see empty string, at end of word\n",
        "\n",
        "    # Return your completed FST\n",
        "    return f"
      ],
      "execution_count": null,
      "outputs": []
    },
    {
      "cell_type": "markdown",
      "metadata": {
        "id": "a_uolFOTfKvA"
      },
      "source": [
        "## Test your FST\n",
        "We have provided you with a dataset to help you debug and test your FST. Run the cell below to see what verbs your FST handles correctly and your overall score. To get a high score, you must perform well on each of the rules. If you are interested, you can find the scoring function in the \"Provided Code\" section above.\n",
        "\n",
        "<b>Note that the autograder uses the same scoring function on a different (hidden) dataset with similar verbs.</b> Since you don't have access to these verbs, you will want to do most of your debugging here. The autograder will provide you with a scorecard to show you what types of verbs you are getting wrong.\n",
        "\n",
        "\n",
        "\n",
        "The `print_examples` argument of the `testFST` method may be set to one of the following values:\n",
        "* `all`: Print your FST's output on all of the words in the dataset.\n",
        "* `incorrect`: Print your FST's output on only the words your FST gets incorrect.\n",
        "* `none`: Don't print any of the words (only show the scorecard and score)."
      ]
    },
    {
      "cell_type": "code",
      "metadata": {
        "id": "89ikxuGefPPf",
        "colab": {
          "base_uri": "https://localhost:8080/"
        },
        "outputId": "39f5a33f-bbf8-41b5-fdee-74900059ff97"
      },
      "source": [
        "if __name__ == '__main__':\n",
        "    testFST(print_examples='incorrect')"
      ],
      "execution_count": null,
      "outputs": [
        {
          "output_type": "stream",
          "name": "stdout",
          "text": [
            "3295 / 3295 = 100.0% of examples parsed\n",
            "\n",
            "Scorecard:\n",
            "+-----------------------------------------------+-----------------------------+-----------+---------+----------------+\n",
            "| Category                                      | Example                     |   Correct |   Total |   Accuracy (%) |\n",
            "|-----------------------------------------------+-----------------------------+-----------+---------+----------------|\n",
            "| 0a* Regular -Car verb (stem end in consonant) | hablar      ==>  habló      |      2371 |    2371 |            100 |\n",
            "| 0b* Regular -Var verb (stem end in vowel)     | pasear      ==>  paseó      |       559 |     559 |            100 |\n",
            "| 0c* Regular -er verb                          | comer       ==>  comió      |       150 |     150 |            100 |\n",
            "| 0d* Regular -ir verb (excluding -guir, -quir) | abrir       ==>  abrió      |       130 |     130 |            100 |\n",
            "| 1a  Verbs in -ñer                             | tañer       ==>  tañó       |         2 |       2 |            100 |\n",
            "| 1b  Verbs in -ñir (excluding -eñir)           | gañir       ==>  gañó       |         6 |       6 |            100 |\n",
            "| 2a  Verbs in -Ver                             | leer        ==>  leyó       |         8 |       8 |            100 |\n",
            "| 2b  Verbs in -Vir                             | construir   ==>  construyó  |        20 |      20 |            100 |\n",
            "| 2c* Verbs in -guir (excluding -eguir)         | distinguir  ==>  distinguió |         2 |       2 |            100 |\n",
            "| 2d* Verbs in -quir                            | delinquir   ==>  delinquió  |         3 |       3 |            100 |\n",
            "| 3a  Verbs in -eCir                            | pedir       ==>  pidió      |        20 |      20 |            100 |\n",
            "| 3b  Verbs in -eCCir                           | sentir      ==>  sintió     |        13 |      13 |            100 |\n",
            "| 3c  Verbs in -eCCCir                          | henchir     ==>  hinchió    |         2 |       2 |            100 |\n",
            "| 3d  Verbs in -eguir                           | seguir      ==>  siguió     |         4 |       4 |            100 |\n",
            "| 3e  Verbs in -eñir                            | heñir       ==>  hiñó       |         5 |       5 |            100 |\n",
            "+-----------------------------------------------+-----------------------------+-----------+---------+----------------+\n",
            "Overall Score: 100.0%\n"
          ]
        }
      ]
    },
    {
      "cell_type": "markdown",
      "source": [
        "## Food for Thought\n",
        "The specification above works for most Spanish verbs. Here is a brief list of some verbs that it will not work on:</b>\n",
        "<ul>\n",
        "<li> <b>Stems ending in <TT>ll</TT>:</b> Technically, Rule 1 above should apply to verbs whose stems end in <TT>ll</TT> as well: e.g. <TT>bullir ==> bulló</TT>\n",
        "<li> <b>Verbs with <TT>o ==> u</TT> vowel raise:</b> Similar to Rule 3 above, a handful of verbs change <TT>o</TT> to <TT>u</TT> when the stem ends in <TT>o</TT> followed by any number of consonants: e.g. <TT>dormir ==> durmió</TT>\n",
        "<li> <b>Rule 3 Exceptions:</b> A handful of verbs that meet the condition of Rule 3 do not raise <TT>e ==> i</TT>: e.g. <TT>discernir ==> discernió</TT>\n",
        "<li> <b>Verbs in <TT>-ír</TT>:</b> These generally follow the rules of <TT>-ir</TT> verbs, except for those in <TT>-eír</TT>: e.g. <TT>reír ==> rió</TT>\n",
        "<li> <b>Stem-changing verbs:</b> Verbs that are suppletive (use a different stem) in the past tense: e.g. <TT>estar ==> estuvo</TT>\n",
        "<li> <b>Irregular verbs:</b> Verbs that are totally irregular: e.g. <TT>ser ==> fue</TT>\n",
        "</ul>"
      ],
      "metadata": {
        "id": "jywbgcdQXwfz"
      }
    },
    {
      "cell_type": "markdown",
      "metadata": {
        "id": "Fa3qZXUBePFW"
      },
      "source": [
        "# What to Submit\n",
        "\n",
        "To submit the assignment, download this notebook as a <TT>.py</TT> file. You can do this by going to <TT>File > Download > Download .py</TT>. Then submit it to the autograder in Gradescope. <b>Do not try to submit it as a <TT>.ipynb</TT> file!</b>\n",
        "\n",
        "Note that it should take <b>less than 10 minutes</b> to see your score after you have submitted to Gradescope. If your submission runs significantly longer than that, you probably have inefficiency issues in your code!"
      ]
    }
  ]
}